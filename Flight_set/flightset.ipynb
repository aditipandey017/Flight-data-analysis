{
 "cells": [
  {
   "cell_type": "code",
   "execution_count": 96,
   "metadata": {},
   "outputs": [],
   "source": [
    "import seaborn as sns\n",
    "import pandas as pd\n",
    "import numpy as np\n",
    "import matplotlib.pyplot as plt\n",
    "import plotly.express as px"
   ]
  },
  {
   "cell_type": "code",
   "execution_count": 97,
   "metadata": {},
   "outputs": [],
   "source": [
    "pd.set_option('display.max_columns', None)"
   ]
  },
  {
   "cell_type": "code",
   "execution_count": 98,
   "metadata": {},
   "outputs": [
    {
     "data": {
      "text/html": [
       "<div>\n",
       "<style scoped>\n",
       "    .dataframe tbody tr th:only-of-type {\n",
       "        vertical-align: middle;\n",
       "    }\n",
       "\n",
       "    .dataframe tbody tr th {\n",
       "        vertical-align: top;\n",
       "    }\n",
       "\n",
       "    .dataframe thead th {\n",
       "        text-align: right;\n",
       "    }\n",
       "</style>\n",
       "<table border=\"1\" class=\"dataframe\">\n",
       "  <thead>\n",
       "    <tr style=\"text-align: right;\">\n",
       "      <th></th>\n",
       "      <th>FlightCode</th>\n",
       "      <th>Year</th>\n",
       "      <th>Month</th>\n",
       "      <th>DayofMonth</th>\n",
       "      <th>DayofWeek</th>\n",
       "      <th>DepTime</th>\n",
       "      <th>CRSDepTime</th>\n",
       "      <th>ArrTime</th>\n",
       "      <th>CRSArrTime</th>\n",
       "      <th>UniqueCarrier</th>\n",
       "      <th>FlightNum</th>\n",
       "      <th>TailNum</th>\n",
       "      <th>ActualElapsedTime</th>\n",
       "      <th>CRSElapsedTime</th>\n",
       "      <th>AirTime</th>\n",
       "      <th>ArrDelay</th>\n",
       "      <th>DepDelay</th>\n",
       "      <th>Origin</th>\n",
       "      <th>Dest</th>\n",
       "      <th>Distance</th>\n",
       "      <th>TaxiIn</th>\n",
       "      <th>TaxiOut</th>\n",
       "      <th>Cancelled</th>\n",
       "      <th>CancellationCode</th>\n",
       "      <th>Diverted</th>\n",
       "      <th>CarrierDelay</th>\n",
       "      <th>WeatherDelay</th>\n",
       "      <th>NASDelay</th>\n",
       "      <th>SecurityDelay</th>\n",
       "      <th>LateAircaftDelay</th>\n",
       "    </tr>\n",
       "  </thead>\n",
       "  <tbody>\n",
       "    <tr>\n",
       "      <th>0</th>\n",
       "      <td>3223256</td>\n",
       "      <td>2018</td>\n",
       "      <td>1</td>\n",
       "      <td>22</td>\n",
       "      <td>7</td>\n",
       "      <td>2225</td>\n",
       "      <td>2014</td>\n",
       "      <td>56.0</td>\n",
       "      <td>2252</td>\n",
       "      <td>UA</td>\n",
       "      <td>288</td>\n",
       "      <td>N448UA</td>\n",
       "      <td>91.0</td>\n",
       "      <td>98.0</td>\n",
       "      <td>74.0</td>\n",
       "      <td>124.0</td>\n",
       "      <td>131</td>\n",
       "      <td>DEN</td>\n",
       "      <td>DSM</td>\n",
       "      <td>589</td>\n",
       "      <td>5.0</td>\n",
       "      <td>12</td>\n",
       "      <td>0</td>\n",
       "      <td>N</td>\n",
       "      <td>0</td>\n",
       "      <td>124.0</td>\n",
       "      <td>0.0</td>\n",
       "      <td>0.0</td>\n",
       "      <td>0.0</td>\n",
       "      <td>0.0</td>\n",
       "    </tr>\n",
       "    <tr>\n",
       "      <th>1</th>\n",
       "      <td>3223257</td>\n",
       "      <td>2018</td>\n",
       "      <td>1</td>\n",
       "      <td>23</td>\n",
       "      <td>1</td>\n",
       "      <td>2114</td>\n",
       "      <td>2014</td>\n",
       "      <td>2350.0</td>\n",
       "      <td>2252</td>\n",
       "      <td>UA</td>\n",
       "      <td>288</td>\n",
       "      <td>N838UA</td>\n",
       "      <td>96.0</td>\n",
       "      <td>98.0</td>\n",
       "      <td>82.0</td>\n",
       "      <td>58.0</td>\n",
       "      <td>60</td>\n",
       "      <td>DEN</td>\n",
       "      <td>DSM</td>\n",
       "      <td>589</td>\n",
       "      <td>3.0</td>\n",
       "      <td>11</td>\n",
       "      <td>0</td>\n",
       "      <td>N</td>\n",
       "      <td>0</td>\n",
       "      <td>0.0</td>\n",
       "      <td>0.0</td>\n",
       "      <td>0.0</td>\n",
       "      <td>0.0</td>\n",
       "      <td>58.0</td>\n",
       "    </tr>\n",
       "    <tr>\n",
       "      <th>2</th>\n",
       "      <td>3223259</td>\n",
       "      <td>2018</td>\n",
       "      <td>1</td>\n",
       "      <td>25</td>\n",
       "      <td>3</td>\n",
       "      <td>2046</td>\n",
       "      <td>2014</td>\n",
       "      <td>2328.0</td>\n",
       "      <td>2252</td>\n",
       "      <td>UA</td>\n",
       "      <td>288</td>\n",
       "      <td>N456UA</td>\n",
       "      <td>102.0</td>\n",
       "      <td>98.0</td>\n",
       "      <td>76.0</td>\n",
       "      <td>36.0</td>\n",
       "      <td>32</td>\n",
       "      <td>DEN</td>\n",
       "      <td>DSM</td>\n",
       "      <td>589</td>\n",
       "      <td>3.0</td>\n",
       "      <td>23</td>\n",
       "      <td>0</td>\n",
       "      <td>N</td>\n",
       "      <td>0</td>\n",
       "      <td>32.0</td>\n",
       "      <td>0.0</td>\n",
       "      <td>4.0</td>\n",
       "      <td>0.0</td>\n",
       "      <td>0.0</td>\n",
       "    </tr>\n",
       "    <tr>\n",
       "      <th>3</th>\n",
       "      <td>3223260</td>\n",
       "      <td>2018</td>\n",
       "      <td>1</td>\n",
       "      <td>26</td>\n",
       "      <td>4</td>\n",
       "      <td>2037</td>\n",
       "      <td>2014</td>\n",
       "      <td>2321.0</td>\n",
       "      <td>2252</td>\n",
       "      <td>UA</td>\n",
       "      <td>288</td>\n",
       "      <td>N403UA</td>\n",
       "      <td>104.0</td>\n",
       "      <td>98.0</td>\n",
       "      <td>81.0</td>\n",
       "      <td>29.0</td>\n",
       "      <td>23</td>\n",
       "      <td>DEN</td>\n",
       "      <td>DSM</td>\n",
       "      <td>589</td>\n",
       "      <td>3.0</td>\n",
       "      <td>20</td>\n",
       "      <td>0</td>\n",
       "      <td>N</td>\n",
       "      <td>0</td>\n",
       "      <td>6.0</td>\n",
       "      <td>0.0</td>\n",
       "      <td>6.0</td>\n",
       "      <td>0.0</td>\n",
       "      <td>17.0</td>\n",
       "    </tr>\n",
       "    <tr>\n",
       "      <th>4</th>\n",
       "      <td>3223262</td>\n",
       "      <td>2018</td>\n",
       "      <td>1</td>\n",
       "      <td>28</td>\n",
       "      <td>6</td>\n",
       "      <td>2054</td>\n",
       "      <td>2011</td>\n",
       "      <td>2322.0</td>\n",
       "      <td>2249</td>\n",
       "      <td>UA</td>\n",
       "      <td>288</td>\n",
       "      <td>N405UA</td>\n",
       "      <td>88.0</td>\n",
       "      <td>98.0</td>\n",
       "      <td>73.0</td>\n",
       "      <td>33.0</td>\n",
       "      <td>43</td>\n",
       "      <td>DEN</td>\n",
       "      <td>DSM</td>\n",
       "      <td>589</td>\n",
       "      <td>5.0</td>\n",
       "      <td>10</td>\n",
       "      <td>0</td>\n",
       "      <td>N</td>\n",
       "      <td>0</td>\n",
       "      <td>15.0</td>\n",
       "      <td>0.0</td>\n",
       "      <td>0.0</td>\n",
       "      <td>0.0</td>\n",
       "      <td>18.0</td>\n",
       "    </tr>\n",
       "  </tbody>\n",
       "</table>\n",
       "</div>"
      ],
      "text/plain": [
       "   FlightCode  Year   Month  DayofMonth  DayofWeek  DepTime  CRSDepTime  \\\n",
       "0     3223256   2018      1          22          7     2225        2014   \n",
       "1     3223257   2018      1          23          1     2114        2014   \n",
       "2     3223259   2018      1          25          3     2046        2014   \n",
       "3     3223260   2018      1          26          4     2037        2014   \n",
       "4     3223262   2018      1          28          6     2054        2011   \n",
       "\n",
       "   ArrTime  CRSArrTime UniqueCarrier  FlightNum TailNum  ActualElapsedTime  \\\n",
       "0     56.0        2252            UA        288  N448UA               91.0   \n",
       "1   2350.0        2252            UA        288  N838UA               96.0   \n",
       "2   2328.0        2252            UA        288  N456UA              102.0   \n",
       "3   2321.0        2252            UA        288  N403UA              104.0   \n",
       "4   2322.0        2249            UA        288  N405UA               88.0   \n",
       "\n",
       "   CRSElapsedTime  AirTime  ArrDelay  DepDelay Origin Dest  Distance  TaxiIn  \\\n",
       "0            98.0     74.0     124.0       131    DEN  DSM       589     5.0   \n",
       "1            98.0     82.0      58.0        60    DEN  DSM       589     3.0   \n",
       "2            98.0     76.0      36.0        32    DEN  DSM       589     3.0   \n",
       "3            98.0     81.0      29.0        23    DEN  DSM       589     3.0   \n",
       "4            98.0     73.0      33.0        43    DEN  DSM       589     5.0   \n",
       "\n",
       "   TaxiOut  Cancelled CancellationCode  Diverted  CarrierDelay  WeatherDelay  \\\n",
       "0       12          0                N         0         124.0           0.0   \n",
       "1       11          0                N         0           0.0           0.0   \n",
       "2       23          0                N         0          32.0           0.0   \n",
       "3       20          0                N         0           6.0           0.0   \n",
       "4       10          0                N         0          15.0           0.0   \n",
       "\n",
       "   NASDelay  SecurityDelay  LateAircaftDelay  \n",
       "0       0.0            0.0               0.0  \n",
       "1       0.0            0.0              58.0  \n",
       "2       4.0            0.0               0.0  \n",
       "3       6.0            0.0              17.0  \n",
       "4       0.0            0.0              18.0  "
      ]
     },
     "execution_count": 98,
     "metadata": {},
     "output_type": "execute_result"
    }
   ],
   "source": [
    "df=pd.read_excel('DelayedFlightsnew.xlsx')\n",
    "df.head(5)"
   ]
  },
  {
   "cell_type": "code",
   "execution_count": 99,
   "metadata": {},
   "outputs": [
    {
     "data": {
      "text/html": [
       "<div>\n",
       "<style scoped>\n",
       "    .dataframe tbody tr th:only-of-type {\n",
       "        vertical-align: middle;\n",
       "    }\n",
       "\n",
       "    .dataframe tbody tr th {\n",
       "        vertical-align: top;\n",
       "    }\n",
       "\n",
       "    .dataframe thead th {\n",
       "        text-align: right;\n",
       "    }\n",
       "</style>\n",
       "<table border=\"1\" class=\"dataframe\">\n",
       "  <thead>\n",
       "    <tr style=\"text-align: right;\">\n",
       "      <th></th>\n",
       "      <th>FlightCode</th>\n",
       "      <th>Year</th>\n",
       "      <th>Month</th>\n",
       "      <th>DayofMonth</th>\n",
       "      <th>DayofWeek</th>\n",
       "      <th>DepTime</th>\n",
       "      <th>CRSDepTime</th>\n",
       "      <th>ArrTime</th>\n",
       "      <th>CRSArrTime</th>\n",
       "      <th>UniqueCarrier</th>\n",
       "      <th>FlightNum</th>\n",
       "      <th>TailNum</th>\n",
       "      <th>ActualElapsedTime</th>\n",
       "      <th>CRSElapsedTime</th>\n",
       "      <th>AirTime</th>\n",
       "      <th>ArrDelay</th>\n",
       "      <th>DepDelay</th>\n",
       "      <th>Origin</th>\n",
       "      <th>Dest</th>\n",
       "      <th>Distance</th>\n",
       "      <th>TaxiIn</th>\n",
       "      <th>TaxiOut</th>\n",
       "      <th>Cancelled</th>\n",
       "      <th>CancellationCode</th>\n",
       "      <th>Diverted</th>\n",
       "      <th>CarrierDelay</th>\n",
       "      <th>WeatherDelay</th>\n",
       "      <th>NASDelay</th>\n",
       "      <th>SecurityDelay</th>\n",
       "      <th>LateAircaftDelay</th>\n",
       "    </tr>\n",
       "  </thead>\n",
       "  <tbody>\n",
       "    <tr>\n",
       "      <th>0</th>\n",
       "      <td>3223256</td>\n",
       "      <td>2018</td>\n",
       "      <td>1</td>\n",
       "      <td>22</td>\n",
       "      <td>7</td>\n",
       "      <td>2225</td>\n",
       "      <td>2014</td>\n",
       "      <td>56.0</td>\n",
       "      <td>2252</td>\n",
       "      <td>UA</td>\n",
       "      <td>288</td>\n",
       "      <td>N448UA</td>\n",
       "      <td>91.0</td>\n",
       "      <td>98.0</td>\n",
       "      <td>74.0</td>\n",
       "      <td>124.0</td>\n",
       "      <td>131</td>\n",
       "      <td>DEN</td>\n",
       "      <td>DSM</td>\n",
       "      <td>589</td>\n",
       "      <td>5.0</td>\n",
       "      <td>12</td>\n",
       "      <td>0</td>\n",
       "      <td>N</td>\n",
       "      <td>0</td>\n",
       "      <td>124.0</td>\n",
       "      <td>0.0</td>\n",
       "      <td>0.0</td>\n",
       "      <td>0.0</td>\n",
       "      <td>0.0</td>\n",
       "    </tr>\n",
       "    <tr>\n",
       "      <th>1</th>\n",
       "      <td>3223257</td>\n",
       "      <td>2018</td>\n",
       "      <td>1</td>\n",
       "      <td>23</td>\n",
       "      <td>1</td>\n",
       "      <td>2114</td>\n",
       "      <td>2014</td>\n",
       "      <td>2350.0</td>\n",
       "      <td>2252</td>\n",
       "      <td>UA</td>\n",
       "      <td>288</td>\n",
       "      <td>N838UA</td>\n",
       "      <td>96.0</td>\n",
       "      <td>98.0</td>\n",
       "      <td>82.0</td>\n",
       "      <td>58.0</td>\n",
       "      <td>60</td>\n",
       "      <td>DEN</td>\n",
       "      <td>DSM</td>\n",
       "      <td>589</td>\n",
       "      <td>3.0</td>\n",
       "      <td>11</td>\n",
       "      <td>0</td>\n",
       "      <td>N</td>\n",
       "      <td>0</td>\n",
       "      <td>0.0</td>\n",
       "      <td>0.0</td>\n",
       "      <td>0.0</td>\n",
       "      <td>0.0</td>\n",
       "      <td>58.0</td>\n",
       "    </tr>\n",
       "    <tr>\n",
       "      <th>2</th>\n",
       "      <td>3223259</td>\n",
       "      <td>2018</td>\n",
       "      <td>1</td>\n",
       "      <td>25</td>\n",
       "      <td>3</td>\n",
       "      <td>2046</td>\n",
       "      <td>2014</td>\n",
       "      <td>2328.0</td>\n",
       "      <td>2252</td>\n",
       "      <td>UA</td>\n",
       "      <td>288</td>\n",
       "      <td>N456UA</td>\n",
       "      <td>102.0</td>\n",
       "      <td>98.0</td>\n",
       "      <td>76.0</td>\n",
       "      <td>36.0</td>\n",
       "      <td>32</td>\n",
       "      <td>DEN</td>\n",
       "      <td>DSM</td>\n",
       "      <td>589</td>\n",
       "      <td>3.0</td>\n",
       "      <td>23</td>\n",
       "      <td>0</td>\n",
       "      <td>N</td>\n",
       "      <td>0</td>\n",
       "      <td>32.0</td>\n",
       "      <td>0.0</td>\n",
       "      <td>4.0</td>\n",
       "      <td>0.0</td>\n",
       "      <td>0.0</td>\n",
       "    </tr>\n",
       "    <tr>\n",
       "      <th>3</th>\n",
       "      <td>3223260</td>\n",
       "      <td>2018</td>\n",
       "      <td>1</td>\n",
       "      <td>26</td>\n",
       "      <td>4</td>\n",
       "      <td>2037</td>\n",
       "      <td>2014</td>\n",
       "      <td>2321.0</td>\n",
       "      <td>2252</td>\n",
       "      <td>UA</td>\n",
       "      <td>288</td>\n",
       "      <td>N403UA</td>\n",
       "      <td>104.0</td>\n",
       "      <td>98.0</td>\n",
       "      <td>81.0</td>\n",
       "      <td>29.0</td>\n",
       "      <td>23</td>\n",
       "      <td>DEN</td>\n",
       "      <td>DSM</td>\n",
       "      <td>589</td>\n",
       "      <td>3.0</td>\n",
       "      <td>20</td>\n",
       "      <td>0</td>\n",
       "      <td>N</td>\n",
       "      <td>0</td>\n",
       "      <td>6.0</td>\n",
       "      <td>0.0</td>\n",
       "      <td>6.0</td>\n",
       "      <td>0.0</td>\n",
       "      <td>17.0</td>\n",
       "    </tr>\n",
       "    <tr>\n",
       "      <th>4</th>\n",
       "      <td>3223262</td>\n",
       "      <td>2018</td>\n",
       "      <td>1</td>\n",
       "      <td>28</td>\n",
       "      <td>6</td>\n",
       "      <td>2054</td>\n",
       "      <td>2011</td>\n",
       "      <td>2322.0</td>\n",
       "      <td>2249</td>\n",
       "      <td>UA</td>\n",
       "      <td>288</td>\n",
       "      <td>N405UA</td>\n",
       "      <td>88.0</td>\n",
       "      <td>98.0</td>\n",
       "      <td>73.0</td>\n",
       "      <td>33.0</td>\n",
       "      <td>43</td>\n",
       "      <td>DEN</td>\n",
       "      <td>DSM</td>\n",
       "      <td>589</td>\n",
       "      <td>5.0</td>\n",
       "      <td>10</td>\n",
       "      <td>0</td>\n",
       "      <td>N</td>\n",
       "      <td>0</td>\n",
       "      <td>15.0</td>\n",
       "      <td>0.0</td>\n",
       "      <td>0.0</td>\n",
       "      <td>0.0</td>\n",
       "      <td>18.0</td>\n",
       "    </tr>\n",
       "    <tr>\n",
       "      <th>...</th>\n",
       "      <td>...</td>\n",
       "      <td>...</td>\n",
       "      <td>...</td>\n",
       "      <td>...</td>\n",
       "      <td>...</td>\n",
       "      <td>...</td>\n",
       "      <td>...</td>\n",
       "      <td>...</td>\n",
       "      <td>...</td>\n",
       "      <td>...</td>\n",
       "      <td>...</td>\n",
       "      <td>...</td>\n",
       "      <td>...</td>\n",
       "      <td>...</td>\n",
       "      <td>...</td>\n",
       "      <td>...</td>\n",
       "      <td>...</td>\n",
       "      <td>...</td>\n",
       "      <td>...</td>\n",
       "      <td>...</td>\n",
       "      <td>...</td>\n",
       "      <td>...</td>\n",
       "      <td>...</td>\n",
       "      <td>...</td>\n",
       "      <td>...</td>\n",
       "      <td>...</td>\n",
       "      <td>...</td>\n",
       "      <td>...</td>\n",
       "      <td>...</td>\n",
       "      <td>...</td>\n",
       "    </tr>\n",
       "    <tr>\n",
       "      <th>88538</th>\n",
       "      <td>3505042</td>\n",
       "      <td>2018</td>\n",
       "      <td>12</td>\n",
       "      <td>19</td>\n",
       "      <td>4</td>\n",
       "      <td>1551</td>\n",
       "      <td>1535</td>\n",
       "      <td>1923.0</td>\n",
       "      <td>1915</td>\n",
       "      <td>AA</td>\n",
       "      <td>1496</td>\n",
       "      <td>N431AA</td>\n",
       "      <td>152.0</td>\n",
       "      <td>160.0</td>\n",
       "      <td>127.0</td>\n",
       "      <td>8.0</td>\n",
       "      <td>16</td>\n",
       "      <td>DFW</td>\n",
       "      <td>MCO</td>\n",
       "      <td>984</td>\n",
       "      <td>5.0</td>\n",
       "      <td>20</td>\n",
       "      <td>0</td>\n",
       "      <td>N</td>\n",
       "      <td>0</td>\n",
       "      <td>NaN</td>\n",
       "      <td>NaN</td>\n",
       "      <td>NaN</td>\n",
       "      <td>NaN</td>\n",
       "      <td>NaN</td>\n",
       "    </tr>\n",
       "    <tr>\n",
       "      <th>88539</th>\n",
       "      <td>3505043</td>\n",
       "      <td>2018</td>\n",
       "      <td>12</td>\n",
       "      <td>20</td>\n",
       "      <td>5</td>\n",
       "      <td>1555</td>\n",
       "      <td>1535</td>\n",
       "      <td>1927.0</td>\n",
       "      <td>1915</td>\n",
       "      <td>AA</td>\n",
       "      <td>1496</td>\n",
       "      <td>N441AA</td>\n",
       "      <td>152.0</td>\n",
       "      <td>160.0</td>\n",
       "      <td>132.0</td>\n",
       "      <td>12.0</td>\n",
       "      <td>20</td>\n",
       "      <td>DFW</td>\n",
       "      <td>MCO</td>\n",
       "      <td>984</td>\n",
       "      <td>6.0</td>\n",
       "      <td>14</td>\n",
       "      <td>0</td>\n",
       "      <td>N</td>\n",
       "      <td>0</td>\n",
       "      <td>NaN</td>\n",
       "      <td>NaN</td>\n",
       "      <td>NaN</td>\n",
       "      <td>NaN</td>\n",
       "      <td>NaN</td>\n",
       "    </tr>\n",
       "    <tr>\n",
       "      <th>88540</th>\n",
       "      <td>3505044</td>\n",
       "      <td>2018</td>\n",
       "      <td>12</td>\n",
       "      <td>21</td>\n",
       "      <td>6</td>\n",
       "      <td>1555</td>\n",
       "      <td>1535</td>\n",
       "      <td>1917.0</td>\n",
       "      <td>1915</td>\n",
       "      <td>AA</td>\n",
       "      <td>1496</td>\n",
       "      <td>N557AA</td>\n",
       "      <td>142.0</td>\n",
       "      <td>160.0</td>\n",
       "      <td>124.0</td>\n",
       "      <td>2.0</td>\n",
       "      <td>20</td>\n",
       "      <td>DFW</td>\n",
       "      <td>MCO</td>\n",
       "      <td>984</td>\n",
       "      <td>5.0</td>\n",
       "      <td>13</td>\n",
       "      <td>0</td>\n",
       "      <td>N</td>\n",
       "      <td>0</td>\n",
       "      <td>NaN</td>\n",
       "      <td>NaN</td>\n",
       "      <td>NaN</td>\n",
       "      <td>NaN</td>\n",
       "      <td>NaN</td>\n",
       "    </tr>\n",
       "    <tr>\n",
       "      <th>88541</th>\n",
       "      <td>3505045</td>\n",
       "      <td>2018</td>\n",
       "      <td>12</td>\n",
       "      <td>22</td>\n",
       "      <td>7</td>\n",
       "      <td>1607</td>\n",
       "      <td>1535</td>\n",
       "      <td>1941.0</td>\n",
       "      <td>1915</td>\n",
       "      <td>AA</td>\n",
       "      <td>1496</td>\n",
       "      <td>N421AA</td>\n",
       "      <td>154.0</td>\n",
       "      <td>160.0</td>\n",
       "      <td>137.0</td>\n",
       "      <td>26.0</td>\n",
       "      <td>32</td>\n",
       "      <td>DFW</td>\n",
       "      <td>MCO</td>\n",
       "      <td>984</td>\n",
       "      <td>5.0</td>\n",
       "      <td>12</td>\n",
       "      <td>0</td>\n",
       "      <td>N</td>\n",
       "      <td>0</td>\n",
       "      <td>1.0</td>\n",
       "      <td>0.0</td>\n",
       "      <td>0.0</td>\n",
       "      <td>0.0</td>\n",
       "      <td>25.0</td>\n",
       "    </tr>\n",
       "    <tr>\n",
       "      <th>88542</th>\n",
       "      <td>3505046</td>\n",
       "      <td>2018</td>\n",
       "      <td>12</td>\n",
       "      <td>23</td>\n",
       "      <td>1</td>\n",
       "      <td>1608</td>\n",
       "      <td>1535</td>\n",
       "      <td>1933.0</td>\n",
       "      <td>1915</td>\n",
       "      <td>AA</td>\n",
       "      <td>1496</td>\n",
       "      <td>N487AA</td>\n",
       "      <td>145.0</td>\n",
       "      <td>160.0</td>\n",
       "      <td>129.0</td>\n",
       "      <td>18.0</td>\n",
       "      <td>33</td>\n",
       "      <td>DFW</td>\n",
       "      <td>MCO</td>\n",
       "      <td>984</td>\n",
       "      <td>6.0</td>\n",
       "      <td>10</td>\n",
       "      <td>0</td>\n",
       "      <td>N</td>\n",
       "      <td>0</td>\n",
       "      <td>18.0</td>\n",
       "      <td>0.0</td>\n",
       "      <td>0.0</td>\n",
       "      <td>0.0</td>\n",
       "      <td>0.0</td>\n",
       "    </tr>\n",
       "  </tbody>\n",
       "</table>\n",
       "<p>88543 rows × 30 columns</p>\n",
       "</div>"
      ],
      "text/plain": [
       "       FlightCode  Year   Month  DayofMonth  DayofWeek  DepTime  CRSDepTime  \\\n",
       "0         3223256   2018      1          22          7     2225        2014   \n",
       "1         3223257   2018      1          23          1     2114        2014   \n",
       "2         3223259   2018      1          25          3     2046        2014   \n",
       "3         3223260   2018      1          26          4     2037        2014   \n",
       "4         3223262   2018      1          28          6     2054        2011   \n",
       "...           ...    ...    ...         ...        ...      ...         ...   \n",
       "88538     3505042   2018     12          19          4     1551        1535   \n",
       "88539     3505043   2018     12          20          5     1555        1535   \n",
       "88540     3505044   2018     12          21          6     1555        1535   \n",
       "88541     3505045   2018     12          22          7     1607        1535   \n",
       "88542     3505046   2018     12          23          1     1608        1535   \n",
       "\n",
       "       ArrTime  CRSArrTime UniqueCarrier  FlightNum TailNum  \\\n",
       "0         56.0        2252            UA        288  N448UA   \n",
       "1       2350.0        2252            UA        288  N838UA   \n",
       "2       2328.0        2252            UA        288  N456UA   \n",
       "3       2321.0        2252            UA        288  N403UA   \n",
       "4       2322.0        2249            UA        288  N405UA   \n",
       "...        ...         ...           ...        ...     ...   \n",
       "88538   1923.0        1915            AA       1496  N431AA   \n",
       "88539   1927.0        1915            AA       1496  N441AA   \n",
       "88540   1917.0        1915            AA       1496  N557AA   \n",
       "88541   1941.0        1915            AA       1496  N421AA   \n",
       "88542   1933.0        1915            AA       1496  N487AA   \n",
       "\n",
       "       ActualElapsedTime  CRSElapsedTime  AirTime  ArrDelay  DepDelay Origin  \\\n",
       "0                   91.0            98.0     74.0     124.0       131    DEN   \n",
       "1                   96.0            98.0     82.0      58.0        60    DEN   \n",
       "2                  102.0            98.0     76.0      36.0        32    DEN   \n",
       "3                  104.0            98.0     81.0      29.0        23    DEN   \n",
       "4                   88.0            98.0     73.0      33.0        43    DEN   \n",
       "...                  ...             ...      ...       ...       ...    ...   \n",
       "88538              152.0           160.0    127.0       8.0        16    DFW   \n",
       "88539              152.0           160.0    132.0      12.0        20    DFW   \n",
       "88540              142.0           160.0    124.0       2.0        20    DFW   \n",
       "88541              154.0           160.0    137.0      26.0        32    DFW   \n",
       "88542              145.0           160.0    129.0      18.0        33    DFW   \n",
       "\n",
       "      Dest  Distance  TaxiIn  TaxiOut  Cancelled CancellationCode  Diverted  \\\n",
       "0      DSM       589     5.0       12          0                N         0   \n",
       "1      DSM       589     3.0       11          0                N         0   \n",
       "2      DSM       589     3.0       23          0                N         0   \n",
       "3      DSM       589     3.0       20          0                N         0   \n",
       "4      DSM       589     5.0       10          0                N         0   \n",
       "...    ...       ...     ...      ...        ...              ...       ...   \n",
       "88538  MCO       984     5.0       20          0                N         0   \n",
       "88539  MCO       984     6.0       14          0                N         0   \n",
       "88540  MCO       984     5.0       13          0                N         0   \n",
       "88541  MCO       984     5.0       12          0                N         0   \n",
       "88542  MCO       984     6.0       10          0                N         0   \n",
       "\n",
       "       CarrierDelay  WeatherDelay  NASDelay  SecurityDelay  LateAircaftDelay  \n",
       "0             124.0           0.0       0.0            0.0               0.0  \n",
       "1               0.0           0.0       0.0            0.0              58.0  \n",
       "2              32.0           0.0       4.0            0.0               0.0  \n",
       "3               6.0           0.0       6.0            0.0              17.0  \n",
       "4              15.0           0.0       0.0            0.0              18.0  \n",
       "...             ...           ...       ...            ...               ...  \n",
       "88538           NaN           NaN       NaN            NaN               NaN  \n",
       "88539           NaN           NaN       NaN            NaN               NaN  \n",
       "88540           NaN           NaN       NaN            NaN               NaN  \n",
       "88541           1.0           0.0       0.0            0.0              25.0  \n",
       "88542          18.0           0.0       0.0            0.0               0.0  \n",
       "\n",
       "[88543 rows x 30 columns]"
      ]
     },
     "execution_count": 99,
     "metadata": {},
     "output_type": "execute_result"
    }
   ],
   "source": [
    "df"
   ]
  },
  {
   "cell_type": "code",
   "execution_count": 100,
   "metadata": {},
   "outputs": [
    {
     "data": {
      "text/plain": [
       "FlightCode               0\n",
       "Year                     0\n",
       "Month                    0\n",
       "DayofMonth               0\n",
       "DayofWeek                0\n",
       "DepTime                  0\n",
       "CRSDepTime               0\n",
       "ArrTime                458\n",
       "CRSArrTime               0\n",
       "UniqueCarrier            0\n",
       "FlightNum                0\n",
       "TailNum                  0\n",
       "ActualElapsedTime      458\n",
       "CRSElapsedTime          29\n",
       "AirTime                458\n",
       "ArrDelay               458\n",
       "DepDelay                 0\n",
       "Origin                   0\n",
       "Dest                     0\n",
       "Distance                 0\n",
       "TaxiIn                 458\n",
       "TaxiOut                  0\n",
       "Cancelled                0\n",
       "CancellationCode         0\n",
       "Diverted                 0\n",
       "CarrierDelay         26250\n",
       "WeatherDelay         26250\n",
       "NASDelay             26250\n",
       "SecurityDelay        26250\n",
       "LateAircaftDelay     26250\n",
       "dtype: int64"
      ]
     },
     "execution_count": 100,
     "metadata": {},
     "output_type": "execute_result"
    }
   ],
   "source": [
    "df.isnull().sum() #use drop na to drop null values"
   ]
  },
  {
   "cell_type": "code",
   "execution_count": 101,
   "metadata": {},
   "outputs": [
    {
     "data": {
      "text/html": [
       "<div>\n",
       "<style scoped>\n",
       "    .dataframe tbody tr th:only-of-type {\n",
       "        vertical-align: middle;\n",
       "    }\n",
       "\n",
       "    .dataframe tbody tr th {\n",
       "        vertical-align: top;\n",
       "    }\n",
       "\n",
       "    .dataframe thead th {\n",
       "        text-align: right;\n",
       "    }\n",
       "</style>\n",
       "<table border=\"1\" class=\"dataframe\">\n",
       "  <thead>\n",
       "    <tr style=\"text-align: right;\">\n",
       "      <th></th>\n",
       "      <th>FlightCode</th>\n",
       "      <th>Year</th>\n",
       "      <th>Month</th>\n",
       "      <th>DayofMonth</th>\n",
       "      <th>DayofWeek</th>\n",
       "      <th>DepTime</th>\n",
       "      <th>CRSDepTime</th>\n",
       "      <th>ArrTime</th>\n",
       "      <th>CRSArrTime</th>\n",
       "      <th>UniqueCarrier</th>\n",
       "      <th>FlightNum</th>\n",
       "      <th>TailNum</th>\n",
       "      <th>ActualElapsedTime</th>\n",
       "      <th>CRSElapsedTime</th>\n",
       "      <th>AirTime</th>\n",
       "      <th>ArrDelay</th>\n",
       "      <th>DepDelay</th>\n",
       "      <th>Origin</th>\n",
       "      <th>Dest</th>\n",
       "      <th>Distance</th>\n",
       "      <th>TaxiIn</th>\n",
       "      <th>TaxiOut</th>\n",
       "      <th>Cancelled</th>\n",
       "      <th>CancellationCode</th>\n",
       "      <th>Diverted</th>\n",
       "      <th>CarrierDelay</th>\n",
       "      <th>WeatherDelay</th>\n",
       "      <th>NASDelay</th>\n",
       "      <th>SecurityDelay</th>\n",
       "      <th>LateAircaftDelay</th>\n",
       "    </tr>\n",
       "  </thead>\n",
       "  <tbody>\n",
       "    <tr>\n",
       "      <th>0</th>\n",
       "      <td>3223256</td>\n",
       "      <td>2018</td>\n",
       "      <td>1</td>\n",
       "      <td>22</td>\n",
       "      <td>7</td>\n",
       "      <td>2225</td>\n",
       "      <td>2014</td>\n",
       "      <td>56.0</td>\n",
       "      <td>2252</td>\n",
       "      <td>UA</td>\n",
       "      <td>288</td>\n",
       "      <td>N448UA</td>\n",
       "      <td>91.0</td>\n",
       "      <td>98.0</td>\n",
       "      <td>74.0</td>\n",
       "      <td>124.0</td>\n",
       "      <td>131</td>\n",
       "      <td>DEN</td>\n",
       "      <td>DSM</td>\n",
       "      <td>589</td>\n",
       "      <td>5.0</td>\n",
       "      <td>12</td>\n",
       "      <td>0</td>\n",
       "      <td>N</td>\n",
       "      <td>0</td>\n",
       "      <td>124.0</td>\n",
       "      <td>0.0</td>\n",
       "      <td>0.0</td>\n",
       "      <td>0.0</td>\n",
       "      <td>0.0</td>\n",
       "    </tr>\n",
       "    <tr>\n",
       "      <th>1</th>\n",
       "      <td>3223257</td>\n",
       "      <td>2018</td>\n",
       "      <td>1</td>\n",
       "      <td>23</td>\n",
       "      <td>1</td>\n",
       "      <td>2114</td>\n",
       "      <td>2014</td>\n",
       "      <td>2350.0</td>\n",
       "      <td>2252</td>\n",
       "      <td>UA</td>\n",
       "      <td>288</td>\n",
       "      <td>N838UA</td>\n",
       "      <td>96.0</td>\n",
       "      <td>98.0</td>\n",
       "      <td>82.0</td>\n",
       "      <td>58.0</td>\n",
       "      <td>60</td>\n",
       "      <td>DEN</td>\n",
       "      <td>DSM</td>\n",
       "      <td>589</td>\n",
       "      <td>3.0</td>\n",
       "      <td>11</td>\n",
       "      <td>0</td>\n",
       "      <td>N</td>\n",
       "      <td>0</td>\n",
       "      <td>0.0</td>\n",
       "      <td>0.0</td>\n",
       "      <td>0.0</td>\n",
       "      <td>0.0</td>\n",
       "      <td>58.0</td>\n",
       "    </tr>\n",
       "    <tr>\n",
       "      <th>2</th>\n",
       "      <td>3223259</td>\n",
       "      <td>2018</td>\n",
       "      <td>1</td>\n",
       "      <td>25</td>\n",
       "      <td>3</td>\n",
       "      <td>2046</td>\n",
       "      <td>2014</td>\n",
       "      <td>2328.0</td>\n",
       "      <td>2252</td>\n",
       "      <td>UA</td>\n",
       "      <td>288</td>\n",
       "      <td>N456UA</td>\n",
       "      <td>102.0</td>\n",
       "      <td>98.0</td>\n",
       "      <td>76.0</td>\n",
       "      <td>36.0</td>\n",
       "      <td>32</td>\n",
       "      <td>DEN</td>\n",
       "      <td>DSM</td>\n",
       "      <td>589</td>\n",
       "      <td>3.0</td>\n",
       "      <td>23</td>\n",
       "      <td>0</td>\n",
       "      <td>N</td>\n",
       "      <td>0</td>\n",
       "      <td>32.0</td>\n",
       "      <td>0.0</td>\n",
       "      <td>4.0</td>\n",
       "      <td>0.0</td>\n",
       "      <td>0.0</td>\n",
       "    </tr>\n",
       "    <tr>\n",
       "      <th>3</th>\n",
       "      <td>3223260</td>\n",
       "      <td>2018</td>\n",
       "      <td>1</td>\n",
       "      <td>26</td>\n",
       "      <td>4</td>\n",
       "      <td>2037</td>\n",
       "      <td>2014</td>\n",
       "      <td>2321.0</td>\n",
       "      <td>2252</td>\n",
       "      <td>UA</td>\n",
       "      <td>288</td>\n",
       "      <td>N403UA</td>\n",
       "      <td>104.0</td>\n",
       "      <td>98.0</td>\n",
       "      <td>81.0</td>\n",
       "      <td>29.0</td>\n",
       "      <td>23</td>\n",
       "      <td>DEN</td>\n",
       "      <td>DSM</td>\n",
       "      <td>589</td>\n",
       "      <td>3.0</td>\n",
       "      <td>20</td>\n",
       "      <td>0</td>\n",
       "      <td>N</td>\n",
       "      <td>0</td>\n",
       "      <td>6.0</td>\n",
       "      <td>0.0</td>\n",
       "      <td>6.0</td>\n",
       "      <td>0.0</td>\n",
       "      <td>17.0</td>\n",
       "    </tr>\n",
       "    <tr>\n",
       "      <th>4</th>\n",
       "      <td>3223262</td>\n",
       "      <td>2018</td>\n",
       "      <td>1</td>\n",
       "      <td>28</td>\n",
       "      <td>6</td>\n",
       "      <td>2054</td>\n",
       "      <td>2011</td>\n",
       "      <td>2322.0</td>\n",
       "      <td>2249</td>\n",
       "      <td>UA</td>\n",
       "      <td>288</td>\n",
       "      <td>N405UA</td>\n",
       "      <td>88.0</td>\n",
       "      <td>98.0</td>\n",
       "      <td>73.0</td>\n",
       "      <td>33.0</td>\n",
       "      <td>43</td>\n",
       "      <td>DEN</td>\n",
       "      <td>DSM</td>\n",
       "      <td>589</td>\n",
       "      <td>5.0</td>\n",
       "      <td>10</td>\n",
       "      <td>0</td>\n",
       "      <td>N</td>\n",
       "      <td>0</td>\n",
       "      <td>15.0</td>\n",
       "      <td>0.0</td>\n",
       "      <td>0.0</td>\n",
       "      <td>0.0</td>\n",
       "      <td>18.0</td>\n",
       "    </tr>\n",
       "    <tr>\n",
       "      <th>...</th>\n",
       "      <td>...</td>\n",
       "      <td>...</td>\n",
       "      <td>...</td>\n",
       "      <td>...</td>\n",
       "      <td>...</td>\n",
       "      <td>...</td>\n",
       "      <td>...</td>\n",
       "      <td>...</td>\n",
       "      <td>...</td>\n",
       "      <td>...</td>\n",
       "      <td>...</td>\n",
       "      <td>...</td>\n",
       "      <td>...</td>\n",
       "      <td>...</td>\n",
       "      <td>...</td>\n",
       "      <td>...</td>\n",
       "      <td>...</td>\n",
       "      <td>...</td>\n",
       "      <td>...</td>\n",
       "      <td>...</td>\n",
       "      <td>...</td>\n",
       "      <td>...</td>\n",
       "      <td>...</td>\n",
       "      <td>...</td>\n",
       "      <td>...</td>\n",
       "      <td>...</td>\n",
       "      <td>...</td>\n",
       "      <td>...</td>\n",
       "      <td>...</td>\n",
       "      <td>...</td>\n",
       "    </tr>\n",
       "    <tr>\n",
       "      <th>88535</th>\n",
       "      <td>3505036</td>\n",
       "      <td>2018</td>\n",
       "      <td>12</td>\n",
       "      <td>13</td>\n",
       "      <td>5</td>\n",
       "      <td>1609</td>\n",
       "      <td>1535</td>\n",
       "      <td>1942.0</td>\n",
       "      <td>1915</td>\n",
       "      <td>AA</td>\n",
       "      <td>1496</td>\n",
       "      <td>N510AA</td>\n",
       "      <td>153.0</td>\n",
       "      <td>160.0</td>\n",
       "      <td>131.0</td>\n",
       "      <td>27.0</td>\n",
       "      <td>34</td>\n",
       "      <td>DFW</td>\n",
       "      <td>MCO</td>\n",
       "      <td>984</td>\n",
       "      <td>7.0</td>\n",
       "      <td>15</td>\n",
       "      <td>0</td>\n",
       "      <td>N</td>\n",
       "      <td>0</td>\n",
       "      <td>27.0</td>\n",
       "      <td>0.0</td>\n",
       "      <td>0.0</td>\n",
       "      <td>0.0</td>\n",
       "      <td>0.0</td>\n",
       "    </tr>\n",
       "    <tr>\n",
       "      <th>88536</th>\n",
       "      <td>3505037</td>\n",
       "      <td>2018</td>\n",
       "      <td>12</td>\n",
       "      <td>14</td>\n",
       "      <td>6</td>\n",
       "      <td>1616</td>\n",
       "      <td>1535</td>\n",
       "      <td>1954.0</td>\n",
       "      <td>1915</td>\n",
       "      <td>AA</td>\n",
       "      <td>1496</td>\n",
       "      <td>N559AA</td>\n",
       "      <td>158.0</td>\n",
       "      <td>160.0</td>\n",
       "      <td>136.0</td>\n",
       "      <td>39.0</td>\n",
       "      <td>41</td>\n",
       "      <td>DFW</td>\n",
       "      <td>MCO</td>\n",
       "      <td>984</td>\n",
       "      <td>11.0</td>\n",
       "      <td>11</td>\n",
       "      <td>0</td>\n",
       "      <td>N</td>\n",
       "      <td>0</td>\n",
       "      <td>11.0</td>\n",
       "      <td>0.0</td>\n",
       "      <td>0.0</td>\n",
       "      <td>0.0</td>\n",
       "      <td>28.0</td>\n",
       "    </tr>\n",
       "    <tr>\n",
       "      <th>88537</th>\n",
       "      <td>3505040</td>\n",
       "      <td>2018</td>\n",
       "      <td>12</td>\n",
       "      <td>17</td>\n",
       "      <td>2</td>\n",
       "      <td>1617</td>\n",
       "      <td>1535</td>\n",
       "      <td>2002.0</td>\n",
       "      <td>1915</td>\n",
       "      <td>AA</td>\n",
       "      <td>1496</td>\n",
       "      <td>N505AA</td>\n",
       "      <td>165.0</td>\n",
       "      <td>160.0</td>\n",
       "      <td>141.0</td>\n",
       "      <td>47.0</td>\n",
       "      <td>42</td>\n",
       "      <td>DFW</td>\n",
       "      <td>MCO</td>\n",
       "      <td>984</td>\n",
       "      <td>7.0</td>\n",
       "      <td>17</td>\n",
       "      <td>0</td>\n",
       "      <td>N</td>\n",
       "      <td>0</td>\n",
       "      <td>0.0</td>\n",
       "      <td>22.0</td>\n",
       "      <td>5.0</td>\n",
       "      <td>0.0</td>\n",
       "      <td>20.0</td>\n",
       "    </tr>\n",
       "    <tr>\n",
       "      <th>88541</th>\n",
       "      <td>3505045</td>\n",
       "      <td>2018</td>\n",
       "      <td>12</td>\n",
       "      <td>22</td>\n",
       "      <td>7</td>\n",
       "      <td>1607</td>\n",
       "      <td>1535</td>\n",
       "      <td>1941.0</td>\n",
       "      <td>1915</td>\n",
       "      <td>AA</td>\n",
       "      <td>1496</td>\n",
       "      <td>N421AA</td>\n",
       "      <td>154.0</td>\n",
       "      <td>160.0</td>\n",
       "      <td>137.0</td>\n",
       "      <td>26.0</td>\n",
       "      <td>32</td>\n",
       "      <td>DFW</td>\n",
       "      <td>MCO</td>\n",
       "      <td>984</td>\n",
       "      <td>5.0</td>\n",
       "      <td>12</td>\n",
       "      <td>0</td>\n",
       "      <td>N</td>\n",
       "      <td>0</td>\n",
       "      <td>1.0</td>\n",
       "      <td>0.0</td>\n",
       "      <td>0.0</td>\n",
       "      <td>0.0</td>\n",
       "      <td>25.0</td>\n",
       "    </tr>\n",
       "    <tr>\n",
       "      <th>88542</th>\n",
       "      <td>3505046</td>\n",
       "      <td>2018</td>\n",
       "      <td>12</td>\n",
       "      <td>23</td>\n",
       "      <td>1</td>\n",
       "      <td>1608</td>\n",
       "      <td>1535</td>\n",
       "      <td>1933.0</td>\n",
       "      <td>1915</td>\n",
       "      <td>AA</td>\n",
       "      <td>1496</td>\n",
       "      <td>N487AA</td>\n",
       "      <td>145.0</td>\n",
       "      <td>160.0</td>\n",
       "      <td>129.0</td>\n",
       "      <td>18.0</td>\n",
       "      <td>33</td>\n",
       "      <td>DFW</td>\n",
       "      <td>MCO</td>\n",
       "      <td>984</td>\n",
       "      <td>6.0</td>\n",
       "      <td>10</td>\n",
       "      <td>0</td>\n",
       "      <td>N</td>\n",
       "      <td>0</td>\n",
       "      <td>18.0</td>\n",
       "      <td>0.0</td>\n",
       "      <td>0.0</td>\n",
       "      <td>0.0</td>\n",
       "      <td>0.0</td>\n",
       "    </tr>\n",
       "  </tbody>\n",
       "</table>\n",
       "<p>62293 rows × 30 columns</p>\n",
       "</div>"
      ],
      "text/plain": [
       "       FlightCode  Year   Month  DayofMonth  DayofWeek  DepTime  CRSDepTime  \\\n",
       "0         3223256   2018      1          22          7     2225        2014   \n",
       "1         3223257   2018      1          23          1     2114        2014   \n",
       "2         3223259   2018      1          25          3     2046        2014   \n",
       "3         3223260   2018      1          26          4     2037        2014   \n",
       "4         3223262   2018      1          28          6     2054        2011   \n",
       "...           ...    ...    ...         ...        ...      ...         ...   \n",
       "88535     3505036   2018     12          13          5     1609        1535   \n",
       "88536     3505037   2018     12          14          6     1616        1535   \n",
       "88537     3505040   2018     12          17          2     1617        1535   \n",
       "88541     3505045   2018     12          22          7     1607        1535   \n",
       "88542     3505046   2018     12          23          1     1608        1535   \n",
       "\n",
       "       ArrTime  CRSArrTime UniqueCarrier  FlightNum TailNum  \\\n",
       "0         56.0        2252            UA        288  N448UA   \n",
       "1       2350.0        2252            UA        288  N838UA   \n",
       "2       2328.0        2252            UA        288  N456UA   \n",
       "3       2321.0        2252            UA        288  N403UA   \n",
       "4       2322.0        2249            UA        288  N405UA   \n",
       "...        ...         ...           ...        ...     ...   \n",
       "88535   1942.0        1915            AA       1496  N510AA   \n",
       "88536   1954.0        1915            AA       1496  N559AA   \n",
       "88537   2002.0        1915            AA       1496  N505AA   \n",
       "88541   1941.0        1915            AA       1496  N421AA   \n",
       "88542   1933.0        1915            AA       1496  N487AA   \n",
       "\n",
       "       ActualElapsedTime  CRSElapsedTime  AirTime  ArrDelay  DepDelay Origin  \\\n",
       "0                   91.0            98.0     74.0     124.0       131    DEN   \n",
       "1                   96.0            98.0     82.0      58.0        60    DEN   \n",
       "2                  102.0            98.0     76.0      36.0        32    DEN   \n",
       "3                  104.0            98.0     81.0      29.0        23    DEN   \n",
       "4                   88.0            98.0     73.0      33.0        43    DEN   \n",
       "...                  ...             ...      ...       ...       ...    ...   \n",
       "88535              153.0           160.0    131.0      27.0        34    DFW   \n",
       "88536              158.0           160.0    136.0      39.0        41    DFW   \n",
       "88537              165.0           160.0    141.0      47.0        42    DFW   \n",
       "88541              154.0           160.0    137.0      26.0        32    DFW   \n",
       "88542              145.0           160.0    129.0      18.0        33    DFW   \n",
       "\n",
       "      Dest  Distance  TaxiIn  TaxiOut  Cancelled CancellationCode  Diverted  \\\n",
       "0      DSM       589     5.0       12          0                N         0   \n",
       "1      DSM       589     3.0       11          0                N         0   \n",
       "2      DSM       589     3.0       23          0                N         0   \n",
       "3      DSM       589     3.0       20          0                N         0   \n",
       "4      DSM       589     5.0       10          0                N         0   \n",
       "...    ...       ...     ...      ...        ...              ...       ...   \n",
       "88535  MCO       984     7.0       15          0                N         0   \n",
       "88536  MCO       984    11.0       11          0                N         0   \n",
       "88537  MCO       984     7.0       17          0                N         0   \n",
       "88541  MCO       984     5.0       12          0                N         0   \n",
       "88542  MCO       984     6.0       10          0                N         0   \n",
       "\n",
       "       CarrierDelay  WeatherDelay  NASDelay  SecurityDelay  LateAircaftDelay  \n",
       "0             124.0           0.0       0.0            0.0               0.0  \n",
       "1               0.0           0.0       0.0            0.0              58.0  \n",
       "2              32.0           0.0       4.0            0.0               0.0  \n",
       "3               6.0           0.0       6.0            0.0              17.0  \n",
       "4              15.0           0.0       0.0            0.0              18.0  \n",
       "...             ...           ...       ...            ...               ...  \n",
       "88535          27.0           0.0       0.0            0.0               0.0  \n",
       "88536          11.0           0.0       0.0            0.0              28.0  \n",
       "88537           0.0          22.0       5.0            0.0              20.0  \n",
       "88541           1.0           0.0       0.0            0.0              25.0  \n",
       "88542          18.0           0.0       0.0            0.0               0.0  \n",
       "\n",
       "[62293 rows x 30 columns]"
      ]
     },
     "execution_count": 101,
     "metadata": {},
     "output_type": "execute_result"
    }
   ],
   "source": [
    "df.dropna()"
   ]
  },
  {
   "cell_type": "code",
   "execution_count": 102,
   "metadata": {},
   "outputs": [
    {
     "data": {
      "text/plain": [
       "FlightCode               0\n",
       "Year                     0\n",
       "Month                    0\n",
       "DayofMonth               0\n",
       "DayofWeek                0\n",
       "DepTime                  0\n",
       "CRSDepTime               0\n",
       "ArrTime                458\n",
       "CRSArrTime               0\n",
       "UniqueCarrier            0\n",
       "FlightNum                0\n",
       "TailNum                  0\n",
       "ActualElapsedTime      458\n",
       "CRSElapsedTime          29\n",
       "AirTime                458\n",
       "ArrDelay               458\n",
       "DepDelay                 0\n",
       "Origin                   0\n",
       "Dest                     0\n",
       "Distance                 0\n",
       "TaxiIn                 458\n",
       "TaxiOut                  0\n",
       "Cancelled                0\n",
       "CancellationCode         0\n",
       "Diverted                 0\n",
       "CarrierDelay         26250\n",
       "WeatherDelay         26250\n",
       "NASDelay             26250\n",
       "SecurityDelay        26250\n",
       "LateAircaftDelay     26250\n",
       "dtype: int64"
      ]
     },
     "execution_count": 102,
     "metadata": {},
     "output_type": "execute_result"
    }
   ],
   "source": [
    "df.isnull().sum()"
   ]
  },
  {
   "cell_type": "code",
   "execution_count": 103,
   "metadata": {},
   "outputs": [
    {
     "data": {
      "text/html": [
       "<div>\n",
       "<style scoped>\n",
       "    .dataframe tbody tr th:only-of-type {\n",
       "        vertical-align: middle;\n",
       "    }\n",
       "\n",
       "    .dataframe tbody tr th {\n",
       "        vertical-align: top;\n",
       "    }\n",
       "\n",
       "    .dataframe thead th {\n",
       "        text-align: right;\n",
       "    }\n",
       "</style>\n",
       "<table border=\"1\" class=\"dataframe\">\n",
       "  <thead>\n",
       "    <tr style=\"text-align: right;\">\n",
       "      <th></th>\n",
       "      <th>FlightCode</th>\n",
       "      <th>Year</th>\n",
       "      <th>Month</th>\n",
       "      <th>DayofMonth</th>\n",
       "      <th>DayofWeek</th>\n",
       "      <th>DepTime</th>\n",
       "      <th>CRSDepTime</th>\n",
       "      <th>ArrTime</th>\n",
       "      <th>CRSArrTime</th>\n",
       "      <th>UniqueCarrier</th>\n",
       "      <th>FlightNum</th>\n",
       "      <th>ActualElapsedTime</th>\n",
       "      <th>CRSElapsedTime</th>\n",
       "      <th>AirTime</th>\n",
       "      <th>Origin</th>\n",
       "      <th>Dest</th>\n",
       "      <th>Distance</th>\n",
       "      <th>Cancelled</th>\n",
       "      <th>CancellationCode</th>\n",
       "    </tr>\n",
       "  </thead>\n",
       "  <tbody>\n",
       "    <tr>\n",
       "      <th>0</th>\n",
       "      <td>3223256</td>\n",
       "      <td>2018</td>\n",
       "      <td>1</td>\n",
       "      <td>22</td>\n",
       "      <td>7</td>\n",
       "      <td>2225</td>\n",
       "      <td>2014</td>\n",
       "      <td>56.0</td>\n",
       "      <td>2252</td>\n",
       "      <td>UA</td>\n",
       "      <td>288</td>\n",
       "      <td>91.0</td>\n",
       "      <td>98.0</td>\n",
       "      <td>74.0</td>\n",
       "      <td>DEN</td>\n",
       "      <td>DSM</td>\n",
       "      <td>589</td>\n",
       "      <td>0</td>\n",
       "      <td>N</td>\n",
       "    </tr>\n",
       "    <tr>\n",
       "      <th>1</th>\n",
       "      <td>3223257</td>\n",
       "      <td>2018</td>\n",
       "      <td>1</td>\n",
       "      <td>23</td>\n",
       "      <td>1</td>\n",
       "      <td>2114</td>\n",
       "      <td>2014</td>\n",
       "      <td>2350.0</td>\n",
       "      <td>2252</td>\n",
       "      <td>UA</td>\n",
       "      <td>288</td>\n",
       "      <td>96.0</td>\n",
       "      <td>98.0</td>\n",
       "      <td>82.0</td>\n",
       "      <td>DEN</td>\n",
       "      <td>DSM</td>\n",
       "      <td>589</td>\n",
       "      <td>0</td>\n",
       "      <td>N</td>\n",
       "    </tr>\n",
       "    <tr>\n",
       "      <th>2</th>\n",
       "      <td>3223259</td>\n",
       "      <td>2018</td>\n",
       "      <td>1</td>\n",
       "      <td>25</td>\n",
       "      <td>3</td>\n",
       "      <td>2046</td>\n",
       "      <td>2014</td>\n",
       "      <td>2328.0</td>\n",
       "      <td>2252</td>\n",
       "      <td>UA</td>\n",
       "      <td>288</td>\n",
       "      <td>102.0</td>\n",
       "      <td>98.0</td>\n",
       "      <td>76.0</td>\n",
       "      <td>DEN</td>\n",
       "      <td>DSM</td>\n",
       "      <td>589</td>\n",
       "      <td>0</td>\n",
       "      <td>N</td>\n",
       "    </tr>\n",
       "    <tr>\n",
       "      <th>3</th>\n",
       "      <td>3223260</td>\n",
       "      <td>2018</td>\n",
       "      <td>1</td>\n",
       "      <td>26</td>\n",
       "      <td>4</td>\n",
       "      <td>2037</td>\n",
       "      <td>2014</td>\n",
       "      <td>2321.0</td>\n",
       "      <td>2252</td>\n",
       "      <td>UA</td>\n",
       "      <td>288</td>\n",
       "      <td>104.0</td>\n",
       "      <td>98.0</td>\n",
       "      <td>81.0</td>\n",
       "      <td>DEN</td>\n",
       "      <td>DSM</td>\n",
       "      <td>589</td>\n",
       "      <td>0</td>\n",
       "      <td>N</td>\n",
       "    </tr>\n",
       "    <tr>\n",
       "      <th>4</th>\n",
       "      <td>3223262</td>\n",
       "      <td>2018</td>\n",
       "      <td>1</td>\n",
       "      <td>28</td>\n",
       "      <td>6</td>\n",
       "      <td>2054</td>\n",
       "      <td>2011</td>\n",
       "      <td>2322.0</td>\n",
       "      <td>2249</td>\n",
       "      <td>UA</td>\n",
       "      <td>288</td>\n",
       "      <td>88.0</td>\n",
       "      <td>98.0</td>\n",
       "      <td>73.0</td>\n",
       "      <td>DEN</td>\n",
       "      <td>DSM</td>\n",
       "      <td>589</td>\n",
       "      <td>0</td>\n",
       "      <td>N</td>\n",
       "    </tr>\n",
       "  </tbody>\n",
       "</table>\n",
       "</div>"
      ],
      "text/plain": [
       "   FlightCode  Year   Month  DayofMonth  DayofWeek  DepTime  CRSDepTime  \\\n",
       "0     3223256   2018      1          22          7     2225        2014   \n",
       "1     3223257   2018      1          23          1     2114        2014   \n",
       "2     3223259   2018      1          25          3     2046        2014   \n",
       "3     3223260   2018      1          26          4     2037        2014   \n",
       "4     3223262   2018      1          28          6     2054        2011   \n",
       "\n",
       "   ArrTime  CRSArrTime UniqueCarrier  FlightNum  ActualElapsedTime  \\\n",
       "0     56.0        2252            UA        288               91.0   \n",
       "1   2350.0        2252            UA        288               96.0   \n",
       "2   2328.0        2252            UA        288              102.0   \n",
       "3   2321.0        2252            UA        288              104.0   \n",
       "4   2322.0        2249            UA        288               88.0   \n",
       "\n",
       "   CRSElapsedTime  AirTime Origin Dest  Distance  Cancelled CancellationCode  \n",
       "0            98.0     74.0    DEN  DSM       589          0                N  \n",
       "1            98.0     82.0    DEN  DSM       589          0                N  \n",
       "2            98.0     76.0    DEN  DSM       589          0                N  \n",
       "3            98.0     81.0    DEN  DSM       589          0                N  \n",
       "4            98.0     73.0    DEN  DSM       589          0                N  "
      ]
     },
     "execution_count": 103,
     "metadata": {},
     "output_type": "execute_result"
    }
   ],
   "source": [
    "cols_to_drop = ['TailNum','ArrDelay','DepDelay','TaxiIn','TaxiOut','Diverted','CarrierDelay','WeatherDelay','NASDelay','SecurityDelay','LateAircaftDelay']\n",
    "df.drop(columns= cols_to_drop,inplace=True)\n",
    "df.head()"
   ]
  },
  {
   "cell_type": "code",
   "execution_count": 104,
   "metadata": {},
   "outputs": [
    {
     "data": {
      "text/html": [
       "<div>\n",
       "<style scoped>\n",
       "    .dataframe tbody tr th:only-of-type {\n",
       "        vertical-align: middle;\n",
       "    }\n",
       "\n",
       "    .dataframe tbody tr th {\n",
       "        vertical-align: top;\n",
       "    }\n",
       "\n",
       "    .dataframe thead th {\n",
       "        text-align: right;\n",
       "    }\n",
       "</style>\n",
       "<table border=\"1\" class=\"dataframe\">\n",
       "  <thead>\n",
       "    <tr style=\"text-align: right;\">\n",
       "      <th></th>\n",
       "      <th>FlightCode</th>\n",
       "      <th>Year</th>\n",
       "      <th>Month</th>\n",
       "      <th>DayofMonth</th>\n",
       "      <th>DayofWeek</th>\n",
       "      <th>DepTime</th>\n",
       "      <th>CRSDepTime</th>\n",
       "      <th>ArrTime</th>\n",
       "      <th>CRSArrTime</th>\n",
       "      <th>UniqueCarrier</th>\n",
       "      <th>FlightNum</th>\n",
       "      <th>ActualElapsedTime</th>\n",
       "      <th>CRSElapsedTime</th>\n",
       "      <th>AirTime</th>\n",
       "      <th>Origin</th>\n",
       "      <th>Dest</th>\n",
       "      <th>Distance</th>\n",
       "      <th>Cancelled</th>\n",
       "      <th>CancellationCode</th>\n",
       "      <th>DepDelay</th>\n",
       "      <th>ArrDelay</th>\n",
       "    </tr>\n",
       "  </thead>\n",
       "  <tbody>\n",
       "    <tr>\n",
       "      <th>0</th>\n",
       "      <td>3223256</td>\n",
       "      <td>2018</td>\n",
       "      <td>1</td>\n",
       "      <td>22</td>\n",
       "      <td>7</td>\n",
       "      <td>2225</td>\n",
       "      <td>2014</td>\n",
       "      <td>56.0</td>\n",
       "      <td>2252</td>\n",
       "      <td>UA</td>\n",
       "      <td>288</td>\n",
       "      <td>91.0</td>\n",
       "      <td>98.0</td>\n",
       "      <td>74.0</td>\n",
       "      <td>DEN</td>\n",
       "      <td>DSM</td>\n",
       "      <td>589</td>\n",
       "      <td>0</td>\n",
       "      <td>N</td>\n",
       "      <td>211</td>\n",
       "      <td>-2196.0</td>\n",
       "    </tr>\n",
       "    <tr>\n",
       "      <th>1</th>\n",
       "      <td>3223257</td>\n",
       "      <td>2018</td>\n",
       "      <td>1</td>\n",
       "      <td>23</td>\n",
       "      <td>1</td>\n",
       "      <td>2114</td>\n",
       "      <td>2014</td>\n",
       "      <td>2350.0</td>\n",
       "      <td>2252</td>\n",
       "      <td>UA</td>\n",
       "      <td>288</td>\n",
       "      <td>96.0</td>\n",
       "      <td>98.0</td>\n",
       "      <td>82.0</td>\n",
       "      <td>DEN</td>\n",
       "      <td>DSM</td>\n",
       "      <td>589</td>\n",
       "      <td>0</td>\n",
       "      <td>N</td>\n",
       "      <td>100</td>\n",
       "      <td>98.0</td>\n",
       "    </tr>\n",
       "    <tr>\n",
       "      <th>2</th>\n",
       "      <td>3223259</td>\n",
       "      <td>2018</td>\n",
       "      <td>1</td>\n",
       "      <td>25</td>\n",
       "      <td>3</td>\n",
       "      <td>2046</td>\n",
       "      <td>2014</td>\n",
       "      <td>2328.0</td>\n",
       "      <td>2252</td>\n",
       "      <td>UA</td>\n",
       "      <td>288</td>\n",
       "      <td>102.0</td>\n",
       "      <td>98.0</td>\n",
       "      <td>76.0</td>\n",
       "      <td>DEN</td>\n",
       "      <td>DSM</td>\n",
       "      <td>589</td>\n",
       "      <td>0</td>\n",
       "      <td>N</td>\n",
       "      <td>32</td>\n",
       "      <td>76.0</td>\n",
       "    </tr>\n",
       "    <tr>\n",
       "      <th>3</th>\n",
       "      <td>3223260</td>\n",
       "      <td>2018</td>\n",
       "      <td>1</td>\n",
       "      <td>26</td>\n",
       "      <td>4</td>\n",
       "      <td>2037</td>\n",
       "      <td>2014</td>\n",
       "      <td>2321.0</td>\n",
       "      <td>2252</td>\n",
       "      <td>UA</td>\n",
       "      <td>288</td>\n",
       "      <td>104.0</td>\n",
       "      <td>98.0</td>\n",
       "      <td>81.0</td>\n",
       "      <td>DEN</td>\n",
       "      <td>DSM</td>\n",
       "      <td>589</td>\n",
       "      <td>0</td>\n",
       "      <td>N</td>\n",
       "      <td>23</td>\n",
       "      <td>69.0</td>\n",
       "    </tr>\n",
       "    <tr>\n",
       "      <th>4</th>\n",
       "      <td>3223262</td>\n",
       "      <td>2018</td>\n",
       "      <td>1</td>\n",
       "      <td>28</td>\n",
       "      <td>6</td>\n",
       "      <td>2054</td>\n",
       "      <td>2011</td>\n",
       "      <td>2322.0</td>\n",
       "      <td>2249</td>\n",
       "      <td>UA</td>\n",
       "      <td>288</td>\n",
       "      <td>88.0</td>\n",
       "      <td>98.0</td>\n",
       "      <td>73.0</td>\n",
       "      <td>DEN</td>\n",
       "      <td>DSM</td>\n",
       "      <td>589</td>\n",
       "      <td>0</td>\n",
       "      <td>N</td>\n",
       "      <td>43</td>\n",
       "      <td>73.0</td>\n",
       "    </tr>\n",
       "    <tr>\n",
       "      <th>...</th>\n",
       "      <td>...</td>\n",
       "      <td>...</td>\n",
       "      <td>...</td>\n",
       "      <td>...</td>\n",
       "      <td>...</td>\n",
       "      <td>...</td>\n",
       "      <td>...</td>\n",
       "      <td>...</td>\n",
       "      <td>...</td>\n",
       "      <td>...</td>\n",
       "      <td>...</td>\n",
       "      <td>...</td>\n",
       "      <td>...</td>\n",
       "      <td>...</td>\n",
       "      <td>...</td>\n",
       "      <td>...</td>\n",
       "      <td>...</td>\n",
       "      <td>...</td>\n",
       "      <td>...</td>\n",
       "      <td>...</td>\n",
       "      <td>...</td>\n",
       "    </tr>\n",
       "    <tr>\n",
       "      <th>88538</th>\n",
       "      <td>3505042</td>\n",
       "      <td>2018</td>\n",
       "      <td>12</td>\n",
       "      <td>19</td>\n",
       "      <td>4</td>\n",
       "      <td>1551</td>\n",
       "      <td>1535</td>\n",
       "      <td>1923.0</td>\n",
       "      <td>1915</td>\n",
       "      <td>AA</td>\n",
       "      <td>1496</td>\n",
       "      <td>152.0</td>\n",
       "      <td>160.0</td>\n",
       "      <td>127.0</td>\n",
       "      <td>DFW</td>\n",
       "      <td>MCO</td>\n",
       "      <td>984</td>\n",
       "      <td>0</td>\n",
       "      <td>N</td>\n",
       "      <td>16</td>\n",
       "      <td>8.0</td>\n",
       "    </tr>\n",
       "    <tr>\n",
       "      <th>88539</th>\n",
       "      <td>3505043</td>\n",
       "      <td>2018</td>\n",
       "      <td>12</td>\n",
       "      <td>20</td>\n",
       "      <td>5</td>\n",
       "      <td>1555</td>\n",
       "      <td>1535</td>\n",
       "      <td>1927.0</td>\n",
       "      <td>1915</td>\n",
       "      <td>AA</td>\n",
       "      <td>1496</td>\n",
       "      <td>152.0</td>\n",
       "      <td>160.0</td>\n",
       "      <td>132.0</td>\n",
       "      <td>DFW</td>\n",
       "      <td>MCO</td>\n",
       "      <td>984</td>\n",
       "      <td>0</td>\n",
       "      <td>N</td>\n",
       "      <td>20</td>\n",
       "      <td>12.0</td>\n",
       "    </tr>\n",
       "    <tr>\n",
       "      <th>88540</th>\n",
       "      <td>3505044</td>\n",
       "      <td>2018</td>\n",
       "      <td>12</td>\n",
       "      <td>21</td>\n",
       "      <td>6</td>\n",
       "      <td>1555</td>\n",
       "      <td>1535</td>\n",
       "      <td>1917.0</td>\n",
       "      <td>1915</td>\n",
       "      <td>AA</td>\n",
       "      <td>1496</td>\n",
       "      <td>142.0</td>\n",
       "      <td>160.0</td>\n",
       "      <td>124.0</td>\n",
       "      <td>DFW</td>\n",
       "      <td>MCO</td>\n",
       "      <td>984</td>\n",
       "      <td>0</td>\n",
       "      <td>N</td>\n",
       "      <td>20</td>\n",
       "      <td>2.0</td>\n",
       "    </tr>\n",
       "    <tr>\n",
       "      <th>88541</th>\n",
       "      <td>3505045</td>\n",
       "      <td>2018</td>\n",
       "      <td>12</td>\n",
       "      <td>22</td>\n",
       "      <td>7</td>\n",
       "      <td>1607</td>\n",
       "      <td>1535</td>\n",
       "      <td>1941.0</td>\n",
       "      <td>1915</td>\n",
       "      <td>AA</td>\n",
       "      <td>1496</td>\n",
       "      <td>154.0</td>\n",
       "      <td>160.0</td>\n",
       "      <td>137.0</td>\n",
       "      <td>DFW</td>\n",
       "      <td>MCO</td>\n",
       "      <td>984</td>\n",
       "      <td>0</td>\n",
       "      <td>N</td>\n",
       "      <td>72</td>\n",
       "      <td>26.0</td>\n",
       "    </tr>\n",
       "    <tr>\n",
       "      <th>88542</th>\n",
       "      <td>3505046</td>\n",
       "      <td>2018</td>\n",
       "      <td>12</td>\n",
       "      <td>23</td>\n",
       "      <td>1</td>\n",
       "      <td>1608</td>\n",
       "      <td>1535</td>\n",
       "      <td>1933.0</td>\n",
       "      <td>1915</td>\n",
       "      <td>AA</td>\n",
       "      <td>1496</td>\n",
       "      <td>145.0</td>\n",
       "      <td>160.0</td>\n",
       "      <td>129.0</td>\n",
       "      <td>DFW</td>\n",
       "      <td>MCO</td>\n",
       "      <td>984</td>\n",
       "      <td>0</td>\n",
       "      <td>N</td>\n",
       "      <td>73</td>\n",
       "      <td>18.0</td>\n",
       "    </tr>\n",
       "  </tbody>\n",
       "</table>\n",
       "<p>88543 rows × 21 columns</p>\n",
       "</div>"
      ],
      "text/plain": [
       "       FlightCode  Year   Month  DayofMonth  DayofWeek  DepTime  CRSDepTime  \\\n",
       "0         3223256   2018      1          22          7     2225        2014   \n",
       "1         3223257   2018      1          23          1     2114        2014   \n",
       "2         3223259   2018      1          25          3     2046        2014   \n",
       "3         3223260   2018      1          26          4     2037        2014   \n",
       "4         3223262   2018      1          28          6     2054        2011   \n",
       "...           ...    ...    ...         ...        ...      ...         ...   \n",
       "88538     3505042   2018     12          19          4     1551        1535   \n",
       "88539     3505043   2018     12          20          5     1555        1535   \n",
       "88540     3505044   2018     12          21          6     1555        1535   \n",
       "88541     3505045   2018     12          22          7     1607        1535   \n",
       "88542     3505046   2018     12          23          1     1608        1535   \n",
       "\n",
       "       ArrTime  CRSArrTime UniqueCarrier  FlightNum  ActualElapsedTime  \\\n",
       "0         56.0        2252            UA        288               91.0   \n",
       "1       2350.0        2252            UA        288               96.0   \n",
       "2       2328.0        2252            UA        288              102.0   \n",
       "3       2321.0        2252            UA        288              104.0   \n",
       "4       2322.0        2249            UA        288               88.0   \n",
       "...        ...         ...           ...        ...                ...   \n",
       "88538   1923.0        1915            AA       1496              152.0   \n",
       "88539   1927.0        1915            AA       1496              152.0   \n",
       "88540   1917.0        1915            AA       1496              142.0   \n",
       "88541   1941.0        1915            AA       1496              154.0   \n",
       "88542   1933.0        1915            AA       1496              145.0   \n",
       "\n",
       "       CRSElapsedTime  AirTime Origin Dest  Distance  Cancelled  \\\n",
       "0                98.0     74.0    DEN  DSM       589          0   \n",
       "1                98.0     82.0    DEN  DSM       589          0   \n",
       "2                98.0     76.0    DEN  DSM       589          0   \n",
       "3                98.0     81.0    DEN  DSM       589          0   \n",
       "4                98.0     73.0    DEN  DSM       589          0   \n",
       "...               ...      ...    ...  ...       ...        ...   \n",
       "88538           160.0    127.0    DFW  MCO       984          0   \n",
       "88539           160.0    132.0    DFW  MCO       984          0   \n",
       "88540           160.0    124.0    DFW  MCO       984          0   \n",
       "88541           160.0    137.0    DFW  MCO       984          0   \n",
       "88542           160.0    129.0    DFW  MCO       984          0   \n",
       "\n",
       "      CancellationCode  DepDelay  ArrDelay  \n",
       "0                    N       211   -2196.0  \n",
       "1                    N       100      98.0  \n",
       "2                    N        32      76.0  \n",
       "3                    N        23      69.0  \n",
       "4                    N        43      73.0  \n",
       "...                ...       ...       ...  \n",
       "88538                N        16       8.0  \n",
       "88539                N        20      12.0  \n",
       "88540                N        20       2.0  \n",
       "88541                N        72      26.0  \n",
       "88542                N        73      18.0  \n",
       "\n",
       "[88543 rows x 21 columns]"
      ]
     },
     "execution_count": 104,
     "metadata": {},
     "output_type": "execute_result"
    }
   ],
   "source": [
    "df['DepDelay']= df['DepTime']-df['CRSDepTime']\n",
    "df['ArrDelay']= df['ArrTime']-df['CRSArrTime']\n",
    "df"
   ]
  },
  {
   "cell_type": "code",
   "execution_count": 105,
   "metadata": {},
   "outputs": [
    {
     "data": {
      "text/plain": [
       "0        22:52\n",
       "1        22:52\n",
       "2        22:52\n",
       "3        22:52\n",
       "4        22:49\n",
       "         ...  \n",
       "88538    19:15\n",
       "88539    19:15\n",
       "88540    19:15\n",
       "88541    19:15\n",
       "88542    19:15\n",
       "Name: CRSArrTime, Length: 88543, dtype: object"
      ]
     },
     "execution_count": 105,
     "metadata": {},
     "output_type": "execute_result"
    }
   ],
   "source": [
    "def generate_readable_time(data):\n",
    "    if isinstance(data, int):\n",
    "        data = list(str(data))\n",
    "        if len(data) == 4:\n",
    "            data = f\"{data[0]}{data[1]}:{data[2]}{data[3]}\"\n",
    "        elif len(data) == 3:\n",
    "            data = f\"0{data[0]}:{data[1]}{data[2]}\"\n",
    "        elif len(data) == 2:\n",
    "            data = f\"00:{data[0]}{data[1]}\"\n",
    "        elif len(data) == 1:\n",
    "            data = f\"00:0{data[0]}\"\n",
    "        else:\n",
    "            print(data)\n",
    "        return data\n",
    "\n",
    "df['DepTime'].apply(generate_readable_time)\n",
    "df['CRSDepTime'].apply(generate_readable_time)\n",
    "# df['ArrTime'].apply(generate_readable_time)\n",
    "df['CRSArrTime'].apply(generate_readable_time)"
   ]
  },
  {
   "cell_type": "code",
   "execution_count": 106,
   "metadata": {},
   "outputs": [
    {
     "data": {
      "text/html": [
       "<div>\n",
       "<style scoped>\n",
       "    .dataframe tbody tr th:only-of-type {\n",
       "        vertical-align: middle;\n",
       "    }\n",
       "\n",
       "    .dataframe tbody tr th {\n",
       "        vertical-align: top;\n",
       "    }\n",
       "\n",
       "    .dataframe thead th {\n",
       "        text-align: right;\n",
       "    }\n",
       "</style>\n",
       "<table border=\"1\" class=\"dataframe\">\n",
       "  <thead>\n",
       "    <tr style=\"text-align: right;\">\n",
       "      <th></th>\n",
       "      <th>FlightCode</th>\n",
       "      <th>Year</th>\n",
       "      <th>Month</th>\n",
       "      <th>DayofMonth</th>\n",
       "      <th>DayofWeek</th>\n",
       "      <th>DepTime</th>\n",
       "      <th>CRSDepTime</th>\n",
       "      <th>ArrTime</th>\n",
       "      <th>CRSArrTime</th>\n",
       "      <th>UniqueCarrier</th>\n",
       "      <th>FlightNum</th>\n",
       "      <th>ActualElapsedTime</th>\n",
       "      <th>CRSElapsedTime</th>\n",
       "      <th>AirTime</th>\n",
       "      <th>Origin</th>\n",
       "      <th>Dest</th>\n",
       "      <th>Distance</th>\n",
       "      <th>Cancelled</th>\n",
       "      <th>CancellationCode</th>\n",
       "      <th>DepDelay</th>\n",
       "      <th>ArrDelay</th>\n",
       "    </tr>\n",
       "  </thead>\n",
       "  <tbody>\n",
       "    <tr>\n",
       "      <th>0</th>\n",
       "      <td>3223256</td>\n",
       "      <td>2018</td>\n",
       "      <td>1</td>\n",
       "      <td>22</td>\n",
       "      <td>7</td>\n",
       "      <td>22:25</td>\n",
       "      <td>20:14</td>\n",
       "      <td>56.0</td>\n",
       "      <td>22:52</td>\n",
       "      <td>UA</td>\n",
       "      <td>288</td>\n",
       "      <td>91.0</td>\n",
       "      <td>98.0</td>\n",
       "      <td>74.0</td>\n",
       "      <td>DEN</td>\n",
       "      <td>DSM</td>\n",
       "      <td>589</td>\n",
       "      <td>0</td>\n",
       "      <td>N</td>\n",
       "      <td>211</td>\n",
       "      <td>-2196.0</td>\n",
       "    </tr>\n",
       "    <tr>\n",
       "      <th>1</th>\n",
       "      <td>3223257</td>\n",
       "      <td>2018</td>\n",
       "      <td>1</td>\n",
       "      <td>23</td>\n",
       "      <td>1</td>\n",
       "      <td>21:14</td>\n",
       "      <td>20:14</td>\n",
       "      <td>2350.0</td>\n",
       "      <td>22:52</td>\n",
       "      <td>UA</td>\n",
       "      <td>288</td>\n",
       "      <td>96.0</td>\n",
       "      <td>98.0</td>\n",
       "      <td>82.0</td>\n",
       "      <td>DEN</td>\n",
       "      <td>DSM</td>\n",
       "      <td>589</td>\n",
       "      <td>0</td>\n",
       "      <td>N</td>\n",
       "      <td>100</td>\n",
       "      <td>98.0</td>\n",
       "    </tr>\n",
       "    <tr>\n",
       "      <th>2</th>\n",
       "      <td>3223259</td>\n",
       "      <td>2018</td>\n",
       "      <td>1</td>\n",
       "      <td>25</td>\n",
       "      <td>3</td>\n",
       "      <td>20:46</td>\n",
       "      <td>20:14</td>\n",
       "      <td>2328.0</td>\n",
       "      <td>22:52</td>\n",
       "      <td>UA</td>\n",
       "      <td>288</td>\n",
       "      <td>102.0</td>\n",
       "      <td>98.0</td>\n",
       "      <td>76.0</td>\n",
       "      <td>DEN</td>\n",
       "      <td>DSM</td>\n",
       "      <td>589</td>\n",
       "      <td>0</td>\n",
       "      <td>N</td>\n",
       "      <td>32</td>\n",
       "      <td>76.0</td>\n",
       "    </tr>\n",
       "    <tr>\n",
       "      <th>3</th>\n",
       "      <td>3223260</td>\n",
       "      <td>2018</td>\n",
       "      <td>1</td>\n",
       "      <td>26</td>\n",
       "      <td>4</td>\n",
       "      <td>20:37</td>\n",
       "      <td>20:14</td>\n",
       "      <td>2321.0</td>\n",
       "      <td>22:52</td>\n",
       "      <td>UA</td>\n",
       "      <td>288</td>\n",
       "      <td>104.0</td>\n",
       "      <td>98.0</td>\n",
       "      <td>81.0</td>\n",
       "      <td>DEN</td>\n",
       "      <td>DSM</td>\n",
       "      <td>589</td>\n",
       "      <td>0</td>\n",
       "      <td>N</td>\n",
       "      <td>23</td>\n",
       "      <td>69.0</td>\n",
       "    </tr>\n",
       "    <tr>\n",
       "      <th>4</th>\n",
       "      <td>3223262</td>\n",
       "      <td>2018</td>\n",
       "      <td>1</td>\n",
       "      <td>28</td>\n",
       "      <td>6</td>\n",
       "      <td>20:54</td>\n",
       "      <td>20:11</td>\n",
       "      <td>2322.0</td>\n",
       "      <td>22:49</td>\n",
       "      <td>UA</td>\n",
       "      <td>288</td>\n",
       "      <td>88.0</td>\n",
       "      <td>98.0</td>\n",
       "      <td>73.0</td>\n",
       "      <td>DEN</td>\n",
       "      <td>DSM</td>\n",
       "      <td>589</td>\n",
       "      <td>0</td>\n",
       "      <td>N</td>\n",
       "      <td>43</td>\n",
       "      <td>73.0</td>\n",
       "    </tr>\n",
       "    <tr>\n",
       "      <th>...</th>\n",
       "      <td>...</td>\n",
       "      <td>...</td>\n",
       "      <td>...</td>\n",
       "      <td>...</td>\n",
       "      <td>...</td>\n",
       "      <td>...</td>\n",
       "      <td>...</td>\n",
       "      <td>...</td>\n",
       "      <td>...</td>\n",
       "      <td>...</td>\n",
       "      <td>...</td>\n",
       "      <td>...</td>\n",
       "      <td>...</td>\n",
       "      <td>...</td>\n",
       "      <td>...</td>\n",
       "      <td>...</td>\n",
       "      <td>...</td>\n",
       "      <td>...</td>\n",
       "      <td>...</td>\n",
       "      <td>...</td>\n",
       "      <td>...</td>\n",
       "    </tr>\n",
       "    <tr>\n",
       "      <th>88538</th>\n",
       "      <td>3505042</td>\n",
       "      <td>2018</td>\n",
       "      <td>12</td>\n",
       "      <td>19</td>\n",
       "      <td>4</td>\n",
       "      <td>15:51</td>\n",
       "      <td>15:35</td>\n",
       "      <td>1923.0</td>\n",
       "      <td>19:15</td>\n",
       "      <td>AA</td>\n",
       "      <td>1496</td>\n",
       "      <td>152.0</td>\n",
       "      <td>160.0</td>\n",
       "      <td>127.0</td>\n",
       "      <td>DFW</td>\n",
       "      <td>MCO</td>\n",
       "      <td>984</td>\n",
       "      <td>0</td>\n",
       "      <td>N</td>\n",
       "      <td>16</td>\n",
       "      <td>8.0</td>\n",
       "    </tr>\n",
       "    <tr>\n",
       "      <th>88539</th>\n",
       "      <td>3505043</td>\n",
       "      <td>2018</td>\n",
       "      <td>12</td>\n",
       "      <td>20</td>\n",
       "      <td>5</td>\n",
       "      <td>15:55</td>\n",
       "      <td>15:35</td>\n",
       "      <td>1927.0</td>\n",
       "      <td>19:15</td>\n",
       "      <td>AA</td>\n",
       "      <td>1496</td>\n",
       "      <td>152.0</td>\n",
       "      <td>160.0</td>\n",
       "      <td>132.0</td>\n",
       "      <td>DFW</td>\n",
       "      <td>MCO</td>\n",
       "      <td>984</td>\n",
       "      <td>0</td>\n",
       "      <td>N</td>\n",
       "      <td>20</td>\n",
       "      <td>12.0</td>\n",
       "    </tr>\n",
       "    <tr>\n",
       "      <th>88540</th>\n",
       "      <td>3505044</td>\n",
       "      <td>2018</td>\n",
       "      <td>12</td>\n",
       "      <td>21</td>\n",
       "      <td>6</td>\n",
       "      <td>15:55</td>\n",
       "      <td>15:35</td>\n",
       "      <td>1917.0</td>\n",
       "      <td>19:15</td>\n",
       "      <td>AA</td>\n",
       "      <td>1496</td>\n",
       "      <td>142.0</td>\n",
       "      <td>160.0</td>\n",
       "      <td>124.0</td>\n",
       "      <td>DFW</td>\n",
       "      <td>MCO</td>\n",
       "      <td>984</td>\n",
       "      <td>0</td>\n",
       "      <td>N</td>\n",
       "      <td>20</td>\n",
       "      <td>2.0</td>\n",
       "    </tr>\n",
       "    <tr>\n",
       "      <th>88541</th>\n",
       "      <td>3505045</td>\n",
       "      <td>2018</td>\n",
       "      <td>12</td>\n",
       "      <td>22</td>\n",
       "      <td>7</td>\n",
       "      <td>16:07</td>\n",
       "      <td>15:35</td>\n",
       "      <td>1941.0</td>\n",
       "      <td>19:15</td>\n",
       "      <td>AA</td>\n",
       "      <td>1496</td>\n",
       "      <td>154.0</td>\n",
       "      <td>160.0</td>\n",
       "      <td>137.0</td>\n",
       "      <td>DFW</td>\n",
       "      <td>MCO</td>\n",
       "      <td>984</td>\n",
       "      <td>0</td>\n",
       "      <td>N</td>\n",
       "      <td>72</td>\n",
       "      <td>26.0</td>\n",
       "    </tr>\n",
       "    <tr>\n",
       "      <th>88542</th>\n",
       "      <td>3505046</td>\n",
       "      <td>2018</td>\n",
       "      <td>12</td>\n",
       "      <td>23</td>\n",
       "      <td>1</td>\n",
       "      <td>16:08</td>\n",
       "      <td>15:35</td>\n",
       "      <td>1933.0</td>\n",
       "      <td>19:15</td>\n",
       "      <td>AA</td>\n",
       "      <td>1496</td>\n",
       "      <td>145.0</td>\n",
       "      <td>160.0</td>\n",
       "      <td>129.0</td>\n",
       "      <td>DFW</td>\n",
       "      <td>MCO</td>\n",
       "      <td>984</td>\n",
       "      <td>0</td>\n",
       "      <td>N</td>\n",
       "      <td>73</td>\n",
       "      <td>18.0</td>\n",
       "    </tr>\n",
       "  </tbody>\n",
       "</table>\n",
       "<p>88543 rows × 21 columns</p>\n",
       "</div>"
      ],
      "text/plain": [
       "       FlightCode  Year   Month  DayofMonth  DayofWeek DepTime CRSDepTime  \\\n",
       "0         3223256   2018      1          22          7   22:25      20:14   \n",
       "1         3223257   2018      1          23          1   21:14      20:14   \n",
       "2         3223259   2018      1          25          3   20:46      20:14   \n",
       "3         3223260   2018      1          26          4   20:37      20:14   \n",
       "4         3223262   2018      1          28          6   20:54      20:11   \n",
       "...           ...    ...    ...         ...        ...     ...        ...   \n",
       "88538     3505042   2018     12          19          4   15:51      15:35   \n",
       "88539     3505043   2018     12          20          5   15:55      15:35   \n",
       "88540     3505044   2018     12          21          6   15:55      15:35   \n",
       "88541     3505045   2018     12          22          7   16:07      15:35   \n",
       "88542     3505046   2018     12          23          1   16:08      15:35   \n",
       "\n",
       "       ArrTime CRSArrTime UniqueCarrier  FlightNum  ActualElapsedTime  \\\n",
       "0         56.0      22:52            UA        288               91.0   \n",
       "1       2350.0      22:52            UA        288               96.0   \n",
       "2       2328.0      22:52            UA        288              102.0   \n",
       "3       2321.0      22:52            UA        288              104.0   \n",
       "4       2322.0      22:49            UA        288               88.0   \n",
       "...        ...        ...           ...        ...                ...   \n",
       "88538   1923.0      19:15            AA       1496              152.0   \n",
       "88539   1927.0      19:15            AA       1496              152.0   \n",
       "88540   1917.0      19:15            AA       1496              142.0   \n",
       "88541   1941.0      19:15            AA       1496              154.0   \n",
       "88542   1933.0      19:15            AA       1496              145.0   \n",
       "\n",
       "       CRSElapsedTime  AirTime Origin Dest  Distance  Cancelled  \\\n",
       "0                98.0     74.0    DEN  DSM       589          0   \n",
       "1                98.0     82.0    DEN  DSM       589          0   \n",
       "2                98.0     76.0    DEN  DSM       589          0   \n",
       "3                98.0     81.0    DEN  DSM       589          0   \n",
       "4                98.0     73.0    DEN  DSM       589          0   \n",
       "...               ...      ...    ...  ...       ...        ...   \n",
       "88538           160.0    127.0    DFW  MCO       984          0   \n",
       "88539           160.0    132.0    DFW  MCO       984          0   \n",
       "88540           160.0    124.0    DFW  MCO       984          0   \n",
       "88541           160.0    137.0    DFW  MCO       984          0   \n",
       "88542           160.0    129.0    DFW  MCO       984          0   \n",
       "\n",
       "      CancellationCode  DepDelay  ArrDelay  \n",
       "0                    N       211   -2196.0  \n",
       "1                    N       100      98.0  \n",
       "2                    N        32      76.0  \n",
       "3                    N        23      69.0  \n",
       "4                    N        43      73.0  \n",
       "...                ...       ...       ...  \n",
       "88538                N        16       8.0  \n",
       "88539                N        20      12.0  \n",
       "88540                N        20       2.0  \n",
       "88541                N        72      26.0  \n",
       "88542                N        73      18.0  \n",
       "\n",
       "[88543 rows x 21 columns]"
      ]
     },
     "execution_count": 106,
     "metadata": {},
     "output_type": "execute_result"
    }
   ],
   "source": [
    "df['DepTime']= df['DepTime'].apply(generate_readable_time)\n",
    "df['CRSDepTime']=df['CRSDepTime'].apply(generate_readable_time)\n",
    "# df['ArrTime']=df['ArrTime'].apply(generate_readable_time)\n",
    "df['CRSArrTime']=df['CRSArrTime'].apply(generate_readable_time)\n",
    "df"
   ]
  },
  {
   "cell_type": "code",
   "execution_count": 107,
   "metadata": {},
   "outputs": [
    {
     "data": {
      "text/plain": [
       "\"def clean_time(ArrTime):\\n    if ArrTime== np.nan:\\n         return np.nan\\n    if isinstance(ArrTime,str):\\n        clean_time=' '\\n    elif isinstance(ArrTime,(float)):\\n        return int(clean_time)\\n\""
      ]
     },
     "execution_count": 107,
     "metadata": {},
     "output_type": "execute_result"
    }
   ],
   "source": [
    "'''def clean_time(ArrTime):\n",
    "    if ArrTime== np.nan:\n",
    "         return np.nan\n",
    "    if isinstance(ArrTime,str):\n",
    "        clean_time=' '\n",
    "    elif isinstance(ArrTime,(float)):\n",
    "        return int(clean_time)\n",
    "'''    "
   ]
  },
  {
   "cell_type": "code",
   "execution_count": 108,
   "metadata": {},
   "outputs": [
    {
     "data": {
      "text/plain": [
       "\"df['ArrTime']= df['ArrTime'].apply(clean_time)\\ndf\\n\""
      ]
     },
     "execution_count": 108,
     "metadata": {},
     "output_type": "execute_result"
    }
   ],
   "source": [
    "'''df['ArrTime']= df['ArrTime'].apply(clean_time)\n",
    "df\n",
    "'''"
   ]
  },
  {
   "cell_type": "code",
   "execution_count": 109,
   "metadata": {},
   "outputs": [
    {
     "name": "stdout",
     "output_type": "stream",
     "text": [
      "FlightCode             int64\n",
      "Year                   int64\n",
      "Month                  int64\n",
      "DayofMonth             int64\n",
      "DayofWeek              int64\n",
      "DepTime               object\n",
      "CRSDepTime            object\n",
      "ArrTime              float64\n",
      "CRSArrTime            object\n",
      "UniqueCarrier         object\n",
      "FlightNum              int64\n",
      "ActualElapsedTime    float64\n",
      "CRSElapsedTime       float64\n",
      "AirTime              float64\n",
      "Origin                object\n",
      "Dest                  object\n",
      "Distance               int64\n",
      "Cancelled              int64\n",
      "CancellationCode      object\n",
      "DepDelay               int64\n",
      "ArrDelay             float64\n",
      "dtype: object\n"
     ]
    }
   ],
   "source": [
    "print(df.dtypes)"
   ]
  },
  {
   "cell_type": "code",
   "execution_count": 110,
   "metadata": {},
   "outputs": [],
   "source": [
    "# df['ReadDepTime'] = df['DepTime'].apply(generate_readable_time)"
   ]
  },
  {
   "cell_type": "code",
   "execution_count": 111,
   "metadata": {},
   "outputs": [
    {
     "name": "stdout",
     "output_type": "stream",
     "text": [
      "<class 'pandas.core.frame.DataFrame'>\n",
      "RangeIndex: 88543 entries, 0 to 88542\n",
      "Data columns (total 21 columns):\n",
      " #   Column             Non-Null Count  Dtype  \n",
      "---  ------             --------------  -----  \n",
      " 0   FlightCode         88543 non-null  int64  \n",
      " 1   Year               88543 non-null  int64  \n",
      " 2   Month              88543 non-null  int64  \n",
      " 3   DayofMonth         88543 non-null  int64  \n",
      " 4   DayofWeek          88543 non-null  int64  \n",
      " 5   DepTime            88543 non-null  object \n",
      " 6   CRSDepTime         88543 non-null  object \n",
      " 7   ArrTime            88085 non-null  float64\n",
      " 8   CRSArrTime         88543 non-null  object \n",
      " 9   UniqueCarrier      88543 non-null  object \n",
      " 10  FlightNum          88543 non-null  int64  \n",
      " 11  ActualElapsedTime  88085 non-null  float64\n",
      " 12  CRSElapsedTime     88514 non-null  float64\n",
      " 13  AirTime            88085 non-null  float64\n",
      " 14  Origin             88543 non-null  object \n",
      " 15  Dest               88543 non-null  object \n",
      " 16  Distance           88543 non-null  int64  \n",
      " 17  Cancelled          88543 non-null  int64  \n",
      " 18  CancellationCode   88543 non-null  object \n",
      " 19  DepDelay           88543 non-null  int64  \n",
      " 20  ArrDelay           88085 non-null  float64\n",
      "dtypes: float64(5), int64(9), object(7)\n",
      "memory usage: 14.2+ MB\n"
     ]
    }
   ],
   "source": [
    "df.info()"
   ]
  },
  {
   "cell_type": "code",
   "execution_count": 112,
   "metadata": {},
   "outputs": [
    {
     "data": {
      "text/plain": [
       "0        211\n",
       "1        100\n",
       "2         32\n",
       "3         23\n",
       "4         43\n",
       "        ... \n",
       "88538     16\n",
       "88539     20\n",
       "88540     20\n",
       "88541     72\n",
       "88542     73\n",
       "Name: DepDelay, Length: 88543, dtype: int64"
      ]
     },
     "execution_count": 112,
     "metadata": {},
     "output_type": "execute_result"
    }
   ],
   "source": [
    "df.DepDelay"
   ]
  },
  {
   "cell_type": "code",
   "execution_count": 133,
   "metadata": {},
   "outputs": [
    {
     "data": {
      "text/plain": [
       "'def get_dep_status(depDelay):\\n    if isinstance(depDelay, int):\\n        if depDelay <=0:\\n            return \"On Time\"\\n        elif depDelay > 0 :\\n            return \"Late\"\\n    else:\\n        return \"Cancelled\"\\n    \\nget_dep_status(np.nan)\\n'"
      ]
     },
     "execution_count": 133,
     "metadata": {},
     "output_type": "execute_result"
    }
   ],
   "source": [
    "'''def get_dep_status(depDelay):\n",
    "    if isinstance(depDelay, int):\n",
    "        if depDelay <=0:\n",
    "            return \"On Time\"\n",
    "        elif depDelay > 0 :\n",
    "            return \"Late\"\n",
    "    else:\n",
    "        return \"Cancelled\"\n",
    "    \n",
    "get_dep_status(np.nan)\n",
    "'''"
   ]
  },
  {
   "cell_type": "code",
   "execution_count": 114,
   "metadata": {},
   "outputs": [],
   "source": [
    "# df['dep_status']=df.DepDelay.apply(get_dep_status)"
   ]
  },
  {
   "cell_type": "code",
   "execution_count": 124,
   "metadata": {},
   "outputs": [
    {
     "data": {
      "text/html": [
       "<div>\n",
       "<style scoped>\n",
       "    .dataframe tbody tr th:only-of-type {\n",
       "        vertical-align: middle;\n",
       "    }\n",
       "\n",
       "    .dataframe tbody tr th {\n",
       "        vertical-align: top;\n",
       "    }\n",
       "\n",
       "    .dataframe thead th {\n",
       "        text-align: right;\n",
       "    }\n",
       "</style>\n",
       "<table border=\"1\" class=\"dataframe\">\n",
       "  <thead>\n",
       "    <tr style=\"text-align: right;\">\n",
       "      <th></th>\n",
       "      <th>FlightCode</th>\n",
       "      <th>Year</th>\n",
       "      <th>Month</th>\n",
       "      <th>DayofMonth</th>\n",
       "      <th>DayofWeek</th>\n",
       "      <th>DepTime</th>\n",
       "      <th>CRSDepTime</th>\n",
       "      <th>ArrTime</th>\n",
       "      <th>CRSArrTime</th>\n",
       "      <th>UniqueCarrier</th>\n",
       "      <th>FlightNum</th>\n",
       "      <th>ActualElapsedTime</th>\n",
       "      <th>CRSElapsedTime</th>\n",
       "      <th>AirTime</th>\n",
       "      <th>Origin</th>\n",
       "      <th>Dest</th>\n",
       "      <th>Distance</th>\n",
       "      <th>Cancelled</th>\n",
       "      <th>CancellationCode</th>\n",
       "      <th>DepDelay</th>\n",
       "      <th>ArrDelay</th>\n",
       "      <th>dep_status</th>\n",
       "      <th>arr_status</th>\n",
       "    </tr>\n",
       "  </thead>\n",
       "  <tbody>\n",
       "    <tr>\n",
       "      <th>0</th>\n",
       "      <td>3223256</td>\n",
       "      <td>2018</td>\n",
       "      <td>1</td>\n",
       "      <td>22</td>\n",
       "      <td>7</td>\n",
       "      <td>22:25</td>\n",
       "      <td>20:14</td>\n",
       "      <td>56.0</td>\n",
       "      <td>22:52</td>\n",
       "      <td>UA</td>\n",
       "      <td>288</td>\n",
       "      <td>91.0</td>\n",
       "      <td>98.0</td>\n",
       "      <td>74.0</td>\n",
       "      <td>DEN</td>\n",
       "      <td>DSM</td>\n",
       "      <td>589</td>\n",
       "      <td>0</td>\n",
       "      <td>N</td>\n",
       "      <td>211</td>\n",
       "      <td>-2196.0</td>\n",
       "      <td>Late</td>\n",
       "      <td>OnTime</td>\n",
       "    </tr>\n",
       "    <tr>\n",
       "      <th>1</th>\n",
       "      <td>3223257</td>\n",
       "      <td>2018</td>\n",
       "      <td>1</td>\n",
       "      <td>23</td>\n",
       "      <td>1</td>\n",
       "      <td>21:14</td>\n",
       "      <td>20:14</td>\n",
       "      <td>2350.0</td>\n",
       "      <td>22:52</td>\n",
       "      <td>UA</td>\n",
       "      <td>288</td>\n",
       "      <td>96.0</td>\n",
       "      <td>98.0</td>\n",
       "      <td>82.0</td>\n",
       "      <td>DEN</td>\n",
       "      <td>DSM</td>\n",
       "      <td>589</td>\n",
       "      <td>0</td>\n",
       "      <td>N</td>\n",
       "      <td>100</td>\n",
       "      <td>98.0</td>\n",
       "      <td>Late</td>\n",
       "      <td>Late</td>\n",
       "    </tr>\n",
       "    <tr>\n",
       "      <th>2</th>\n",
       "      <td>3223259</td>\n",
       "      <td>2018</td>\n",
       "      <td>1</td>\n",
       "      <td>25</td>\n",
       "      <td>3</td>\n",
       "      <td>20:46</td>\n",
       "      <td>20:14</td>\n",
       "      <td>2328.0</td>\n",
       "      <td>22:52</td>\n",
       "      <td>UA</td>\n",
       "      <td>288</td>\n",
       "      <td>102.0</td>\n",
       "      <td>98.0</td>\n",
       "      <td>76.0</td>\n",
       "      <td>DEN</td>\n",
       "      <td>DSM</td>\n",
       "      <td>589</td>\n",
       "      <td>0</td>\n",
       "      <td>N</td>\n",
       "      <td>32</td>\n",
       "      <td>76.0</td>\n",
       "      <td>Late</td>\n",
       "      <td>Late</td>\n",
       "    </tr>\n",
       "    <tr>\n",
       "      <th>3</th>\n",
       "      <td>3223260</td>\n",
       "      <td>2018</td>\n",
       "      <td>1</td>\n",
       "      <td>26</td>\n",
       "      <td>4</td>\n",
       "      <td>20:37</td>\n",
       "      <td>20:14</td>\n",
       "      <td>2321.0</td>\n",
       "      <td>22:52</td>\n",
       "      <td>UA</td>\n",
       "      <td>288</td>\n",
       "      <td>104.0</td>\n",
       "      <td>98.0</td>\n",
       "      <td>81.0</td>\n",
       "      <td>DEN</td>\n",
       "      <td>DSM</td>\n",
       "      <td>589</td>\n",
       "      <td>0</td>\n",
       "      <td>N</td>\n",
       "      <td>23</td>\n",
       "      <td>69.0</td>\n",
       "      <td>Late</td>\n",
       "      <td>Late</td>\n",
       "    </tr>\n",
       "    <tr>\n",
       "      <th>4</th>\n",
       "      <td>3223262</td>\n",
       "      <td>2018</td>\n",
       "      <td>1</td>\n",
       "      <td>28</td>\n",
       "      <td>6</td>\n",
       "      <td>20:54</td>\n",
       "      <td>20:11</td>\n",
       "      <td>2322.0</td>\n",
       "      <td>22:49</td>\n",
       "      <td>UA</td>\n",
       "      <td>288</td>\n",
       "      <td>88.0</td>\n",
       "      <td>98.0</td>\n",
       "      <td>73.0</td>\n",
       "      <td>DEN</td>\n",
       "      <td>DSM</td>\n",
       "      <td>589</td>\n",
       "      <td>0</td>\n",
       "      <td>N</td>\n",
       "      <td>43</td>\n",
       "      <td>73.0</td>\n",
       "      <td>Late</td>\n",
       "      <td>Late</td>\n",
       "    </tr>\n",
       "    <tr>\n",
       "      <th>...</th>\n",
       "      <td>...</td>\n",
       "      <td>...</td>\n",
       "      <td>...</td>\n",
       "      <td>...</td>\n",
       "      <td>...</td>\n",
       "      <td>...</td>\n",
       "      <td>...</td>\n",
       "      <td>...</td>\n",
       "      <td>...</td>\n",
       "      <td>...</td>\n",
       "      <td>...</td>\n",
       "      <td>...</td>\n",
       "      <td>...</td>\n",
       "      <td>...</td>\n",
       "      <td>...</td>\n",
       "      <td>...</td>\n",
       "      <td>...</td>\n",
       "      <td>...</td>\n",
       "      <td>...</td>\n",
       "      <td>...</td>\n",
       "      <td>...</td>\n",
       "      <td>...</td>\n",
       "      <td>...</td>\n",
       "    </tr>\n",
       "    <tr>\n",
       "      <th>88538</th>\n",
       "      <td>3505042</td>\n",
       "      <td>2018</td>\n",
       "      <td>12</td>\n",
       "      <td>19</td>\n",
       "      <td>4</td>\n",
       "      <td>15:51</td>\n",
       "      <td>15:35</td>\n",
       "      <td>1923.0</td>\n",
       "      <td>19:15</td>\n",
       "      <td>AA</td>\n",
       "      <td>1496</td>\n",
       "      <td>152.0</td>\n",
       "      <td>160.0</td>\n",
       "      <td>127.0</td>\n",
       "      <td>DFW</td>\n",
       "      <td>MCO</td>\n",
       "      <td>984</td>\n",
       "      <td>0</td>\n",
       "      <td>N</td>\n",
       "      <td>16</td>\n",
       "      <td>8.0</td>\n",
       "      <td>Late</td>\n",
       "      <td>Late</td>\n",
       "    </tr>\n",
       "    <tr>\n",
       "      <th>88539</th>\n",
       "      <td>3505043</td>\n",
       "      <td>2018</td>\n",
       "      <td>12</td>\n",
       "      <td>20</td>\n",
       "      <td>5</td>\n",
       "      <td>15:55</td>\n",
       "      <td>15:35</td>\n",
       "      <td>1927.0</td>\n",
       "      <td>19:15</td>\n",
       "      <td>AA</td>\n",
       "      <td>1496</td>\n",
       "      <td>152.0</td>\n",
       "      <td>160.0</td>\n",
       "      <td>132.0</td>\n",
       "      <td>DFW</td>\n",
       "      <td>MCO</td>\n",
       "      <td>984</td>\n",
       "      <td>0</td>\n",
       "      <td>N</td>\n",
       "      <td>20</td>\n",
       "      <td>12.0</td>\n",
       "      <td>Late</td>\n",
       "      <td>Late</td>\n",
       "    </tr>\n",
       "    <tr>\n",
       "      <th>88540</th>\n",
       "      <td>3505044</td>\n",
       "      <td>2018</td>\n",
       "      <td>12</td>\n",
       "      <td>21</td>\n",
       "      <td>6</td>\n",
       "      <td>15:55</td>\n",
       "      <td>15:35</td>\n",
       "      <td>1917.0</td>\n",
       "      <td>19:15</td>\n",
       "      <td>AA</td>\n",
       "      <td>1496</td>\n",
       "      <td>142.0</td>\n",
       "      <td>160.0</td>\n",
       "      <td>124.0</td>\n",
       "      <td>DFW</td>\n",
       "      <td>MCO</td>\n",
       "      <td>984</td>\n",
       "      <td>0</td>\n",
       "      <td>N</td>\n",
       "      <td>20</td>\n",
       "      <td>2.0</td>\n",
       "      <td>Late</td>\n",
       "      <td>Late</td>\n",
       "    </tr>\n",
       "    <tr>\n",
       "      <th>88541</th>\n",
       "      <td>3505045</td>\n",
       "      <td>2018</td>\n",
       "      <td>12</td>\n",
       "      <td>22</td>\n",
       "      <td>7</td>\n",
       "      <td>16:07</td>\n",
       "      <td>15:35</td>\n",
       "      <td>1941.0</td>\n",
       "      <td>19:15</td>\n",
       "      <td>AA</td>\n",
       "      <td>1496</td>\n",
       "      <td>154.0</td>\n",
       "      <td>160.0</td>\n",
       "      <td>137.0</td>\n",
       "      <td>DFW</td>\n",
       "      <td>MCO</td>\n",
       "      <td>984</td>\n",
       "      <td>0</td>\n",
       "      <td>N</td>\n",
       "      <td>72</td>\n",
       "      <td>26.0</td>\n",
       "      <td>Late</td>\n",
       "      <td>Late</td>\n",
       "    </tr>\n",
       "    <tr>\n",
       "      <th>88542</th>\n",
       "      <td>3505046</td>\n",
       "      <td>2018</td>\n",
       "      <td>12</td>\n",
       "      <td>23</td>\n",
       "      <td>1</td>\n",
       "      <td>16:08</td>\n",
       "      <td>15:35</td>\n",
       "      <td>1933.0</td>\n",
       "      <td>19:15</td>\n",
       "      <td>AA</td>\n",
       "      <td>1496</td>\n",
       "      <td>145.0</td>\n",
       "      <td>160.0</td>\n",
       "      <td>129.0</td>\n",
       "      <td>DFW</td>\n",
       "      <td>MCO</td>\n",
       "      <td>984</td>\n",
       "      <td>0</td>\n",
       "      <td>N</td>\n",
       "      <td>73</td>\n",
       "      <td>18.0</td>\n",
       "      <td>Late</td>\n",
       "      <td>Late</td>\n",
       "    </tr>\n",
       "  </tbody>\n",
       "</table>\n",
       "<p>88543 rows × 23 columns</p>\n",
       "</div>"
      ],
      "text/plain": [
       "       FlightCode  Year   Month  DayofMonth  DayofWeek DepTime CRSDepTime  \\\n",
       "0         3223256   2018      1          22          7   22:25      20:14   \n",
       "1         3223257   2018      1          23          1   21:14      20:14   \n",
       "2         3223259   2018      1          25          3   20:46      20:14   \n",
       "3         3223260   2018      1          26          4   20:37      20:14   \n",
       "4         3223262   2018      1          28          6   20:54      20:11   \n",
       "...           ...    ...    ...         ...        ...     ...        ...   \n",
       "88538     3505042   2018     12          19          4   15:51      15:35   \n",
       "88539     3505043   2018     12          20          5   15:55      15:35   \n",
       "88540     3505044   2018     12          21          6   15:55      15:35   \n",
       "88541     3505045   2018     12          22          7   16:07      15:35   \n",
       "88542     3505046   2018     12          23          1   16:08      15:35   \n",
       "\n",
       "       ArrTime CRSArrTime UniqueCarrier  FlightNum  ActualElapsedTime  \\\n",
       "0         56.0      22:52            UA        288               91.0   \n",
       "1       2350.0      22:52            UA        288               96.0   \n",
       "2       2328.0      22:52            UA        288              102.0   \n",
       "3       2321.0      22:52            UA        288              104.0   \n",
       "4       2322.0      22:49            UA        288               88.0   \n",
       "...        ...        ...           ...        ...                ...   \n",
       "88538   1923.0      19:15            AA       1496              152.0   \n",
       "88539   1927.0      19:15            AA       1496              152.0   \n",
       "88540   1917.0      19:15            AA       1496              142.0   \n",
       "88541   1941.0      19:15            AA       1496              154.0   \n",
       "88542   1933.0      19:15            AA       1496              145.0   \n",
       "\n",
       "       CRSElapsedTime  AirTime Origin Dest  Distance  Cancelled  \\\n",
       "0                98.0     74.0    DEN  DSM       589          0   \n",
       "1                98.0     82.0    DEN  DSM       589          0   \n",
       "2                98.0     76.0    DEN  DSM       589          0   \n",
       "3                98.0     81.0    DEN  DSM       589          0   \n",
       "4                98.0     73.0    DEN  DSM       589          0   \n",
       "...               ...      ...    ...  ...       ...        ...   \n",
       "88538           160.0    127.0    DFW  MCO       984          0   \n",
       "88539           160.0    132.0    DFW  MCO       984          0   \n",
       "88540           160.0    124.0    DFW  MCO       984          0   \n",
       "88541           160.0    137.0    DFW  MCO       984          0   \n",
       "88542           160.0    129.0    DFW  MCO       984          0   \n",
       "\n",
       "      CancellationCode  DepDelay  ArrDelay dep_status arr_status  \n",
       "0                    N       211   -2196.0       Late     OnTime  \n",
       "1                    N       100      98.0       Late       Late  \n",
       "2                    N        32      76.0       Late       Late  \n",
       "3                    N        23      69.0       Late       Late  \n",
       "4                    N        43      73.0       Late       Late  \n",
       "...                ...       ...       ...        ...        ...  \n",
       "88538                N        16       8.0       Late       Late  \n",
       "88539                N        20      12.0       Late       Late  \n",
       "88540                N        20       2.0       Late       Late  \n",
       "88541                N        72      26.0       Late       Late  \n",
       "88542                N        73      18.0       Late       Late  \n",
       "\n",
       "[88543 rows x 23 columns]"
      ]
     },
     "execution_count": 124,
     "metadata": {},
     "output_type": "execute_result"
    }
   ],
   "source": [
    "df.loc[df.DepDelay.isna(), \"arr_status\"]=\"Cancelled\"\n",
    "df.loc[df.DepDelay <= 0, \"arr_status\"]=\"OnTime\"\n",
    "df.loc[df.DepDelay > 0, \"arr_status\"]=\"Late\"\n",
    "\n",
    "df.loc[df.ArrDelay.isna(), \"arr_status\"]=\"Cancelled\"\n",
    "df.loc[df.ArrDelay <= 0, \"arr_status\"]=\"OnTime\"\n",
    "df.loc[df.ArrDelay > 0, \"arr_status\"]=\"Late\"\n",
    "df"
   ]
  },
  {
   "cell_type": "code",
   "execution_count": 116,
   "metadata": {},
   "outputs": [
    {
     "data": {
      "text/plain": [
       "80.0"
      ]
     },
     "execution_count": 116,
     "metadata": {},
     "output_type": "execute_result"
    }
   ],
   "source": [
    "from datetime import datetime\n",
    "def dep_delay_in_minute(scheduled, actual):\n",
    "    t1 = datetime.strptime(scheduled, \"%H:%M\")\n",
    "    t2 = datetime.strptime(actual, \"%H:%M\")\n",
    "    delta = t2 - t1\n",
    "    ms = delta.total_seconds() / 60\n",
    "    return ms\n",
    "\n",
    "dep_delay_in_minute('20:00','21:20')"
   ]
  },
  {
   "cell_type": "markdown",
   "metadata": {},
   "source": [
    "# Flights Frequency\n"
   ]
  },
  {
   "cell_type": "markdown",
   "metadata": {},
   "source": [
    "## Busiest airport in terms of Flights arrival "
   ]
  },
  {
   "cell_type": "code",
   "execution_count": 117,
   "metadata": {},
   "outputs": [
    {
     "data": {
      "text/plain": [
       "Origin\n",
       "ABE     40\n",
       "ABI     39\n",
       "ABQ    207\n",
       "ABY     17\n",
       "ACT     27\n",
       "      ... \n",
       "TYR     20\n",
       "TYS    193\n",
       "VLD     17\n",
       "VPS    166\n",
       "XNA    249\n",
       "Name: Origin, Length: 228, dtype: int64"
      ]
     },
     "execution_count": 117,
     "metadata": {},
     "output_type": "execute_result"
    }
   ],
   "source": [
    "buzArr = df.groupby(['Origin'])['Origin'].count()\n",
    "buzArr"
   ]
  },
  {
   "cell_type": "code",
   "execution_count": 118,
   "metadata": {},
   "outputs": [
    {
     "data": {
      "text/plain": [
       "<Axes: xlabel='Origin'>"
      ]
     },
     "execution_count": 118,
     "metadata": {},
     "output_type": "execute_result"
    },
    {
     "data": {
      "image/png": "[encoded data removed]",
      "text/plain": [
       "<Figure size 640x480 with 1 Axes>"
      ]
     },
     "metadata": {},
     "output_type": "display_data"
    }
   ],
   "source": [
    "(df.Origin ).value_counts().head(25).plot(kind='bar')"
   ]
  },
  {
   "cell_type": "markdown",
   "metadata": {},
   "source": [
    "## Busiest airport in terms of Flights departure"
   ]
  },
  {
   "cell_type": "code",
   "execution_count": 119,
   "metadata": {},
   "outputs": [
    {
     "data": {
      "text/plain": [
       "<Axes: xlabel='Dest'>"
      ]
     },
     "execution_count": 119,
     "metadata": {},
     "output_type": "execute_result"
    },
    {
     "data": {
      "image/png": "[encoded data removed]",
      "text/plain": [
       "<Figure size 640x480 with 1 Axes>"
      ]
     },
     "metadata": {},
     "output_type": "display_data"
    }
   ],
   "source": [
    "(df.Dest ).value_counts().head(25).plot(kind='bar')"
   ]
  },
  {
   "cell_type": "markdown",
   "metadata": {},
   "source": [
    "## Popular Routes"
   ]
  },
  {
   "cell_type": "code",
   "execution_count": 120,
   "metadata": {},
   "outputs": [
    {
     "data": {
      "text/plain": [
       "<Axes: >"
      ]
     },
     "execution_count": 120,
     "metadata": {},
     "output_type": "execute_result"
    },
    {
     "data": {
      "image/png": "[encoded data removed]",
      "text/plain": [
       "<Figure size 640x480 with 1 Axes>"
      ]
     },
     "metadata": {},
     "output_type": "display_data"
    }
   ],
   "source": [
    "(df.Origin+' '+df.Dest ).value_counts().head(25).plot(kind='bar')"
   ]
  },
  {
   "cell_type": "markdown",
   "metadata": {},
   "source": [
    "## Flights frequency across months"
   ]
  },
  {
   "cell_type": "code",
   "execution_count": 121,
   "metadata": {},
   "outputs": [
    {
     "data": {
      "text/plain": [
       "Month\n",
       "1     5699\n",
       "2     7199\n",
       "3     9001\n",
       "4     8001\n",
       "5     8732\n",
       "6     7845\n",
       "7     9011\n",
       "8     8971\n",
       "9     8996\n",
       "10    5011\n",
       "11    5478\n",
       "12    4599\n",
       "Name: Month, dtype: int64"
      ]
     },
     "execution_count": 121,
     "metadata": {},
     "output_type": "execute_result"
    }
   ],
   "source": [
    "buzMonth = df.groupby(['Month'])['Month'].count()\n",
    "buzMonth"
   ]
  },
  {
   "cell_type": "code",
   "execution_count": 122,
   "metadata": {},
   "outputs": [
    {
     "data": {
      "text/plain": [
       "<Axes: title={'center': 'Flights frequency across months'}, xlabel='Month'>"
      ]
     },
     "execution_count": 122,
     "metadata": {},
     "output_type": "execute_result"
    },
    {
     "data": {
      "image/png": "[encoded data removed]",
      "text/plain": [
       "<Figure size 1800x1000 with 1 Axes>"
      ]
     },
     "metadata": {},
     "output_type": "display_data"
    }
   ],
   "source": [
    "(df.Month).value_counts().plot(figsize=(18,10),\n",
    "                          kind='line',\n",
    "                          title= \"Flights frequency across months\",\n",
    "                          style='ro-',)"
   ]
  },
  {
   "cell_type": "markdown",
   "metadata": {},
   "source": [
    "# Flight Status"
   ]
  },
  {
   "cell_type": "markdown",
   "metadata": {},
   "source": [
    "## Departure and Arrival Status"
   ]
  },
  {
   "cell_type": "code",
   "execution_count": 125,
   "metadata": {},
   "outputs": [
    {
     "data": {
      "text/plain": [
       "dep_status\n",
       "Late       87462\n",
       "On Time     1081\n",
       "Name: dep_status, dtype: int64"
      ]
     },
     "execution_count": 125,
     "metadata": {},
     "output_type": "execute_result"
    }
   ],
   "source": [
    "DepStatus=df.groupby(['dep_status'])['dep_status'].count()\n",
    "DepStatus"
   ]
  },
  {
   "cell_type": "code",
   "execution_count": 129,
   "metadata": {},
   "outputs": [
    {
     "data": {
      "application/vnd.plotly.v1+json": {
       "config": {
        "plotlyServerURL": "https://plot.ly"
       },
       "data": [
        {
         "domain": {
          "x": [
           0,
           1
          ],
          "y": [
           0,
           1
          ]
         },
         "hovertemplate": "index=%{label}<br>value=%{value}<extra></extra>",
         "labels": [
          "Late",
          "On Time"
         ],
         "legendgroup": "",
         "name": "",
         "showlegend": true,
         "type": "pie",
         "values": [
          87462,
          1081
         ]
        }
       ],
       "layout": {
        "legend": {
         "tracegroupgap": 0
        },
        "margin": {
         "t": 60
        },
        "template": {
         "data": {
          "bar": [
           {
            "error_x": {
             "color": "#2a3f5f"
            },
            "error_y": {
             "color": "#2a3f5f"
            },
            "marker": {
             "line": {
              "color": "#E5ECF6",
              "width": 0.5
             },
             "pattern": {
              "fillmode": "overlay",
              "size": 10,
              "solidity": 0.2
             }
            },
            "type": "bar"
           }
          ],
          "barpolar": [
           {
            "marker": {
             "line": {
              "color": "#E5ECF6",
              "width": 0.5
             },
             "pattern": {
              "fillmode": "overlay",
              "size": 10,
              "solidity": 0.2
             }
            },
            "type": "barpolar"
           }
          ],
          "carpet": [
           {
            "aaxis": {
             "endlinecolor": "#2a3f5f",
             "gridcolor": "white",
             "linecolor": "white",
             "minorgridcolor": "white",
             "startlinecolor": "#2a3f5f"
            },
            "baxis": {
             "endlinecolor": "#2a3f5f",
             "gridcolor": "white",
             "linecolor": "white",
             "minorgridcolor": "white",
             "startlinecolor": "#2a3f5f"
            },
            "type": "carpet"
           }
          ],
          "choropleth": [
           {
            "colorbar": {
             "outlinewidth": 0,
             "ticks": ""
            },
            "type": "choropleth"
           }
          ],
          "contour": [
           {
            "colorbar": {
             "outlinewidth": 0,
             "ticks": ""
            },
            "colorscale": [
             [
              0,
              "#0d0887"
             ],
             [
              0.1111111111111111,
              "#46039f"
             ],
             [
              0.2222222222222222,
              "#7201a8"
             ],
             [
              0.3333333333333333,
              "#9c179e"
             ],
             [
              0.4444444444444444,
              "#bd3786"
             ],
             [
              0.5555555555555556,
              "#d8576b"
             ],
             [
              0.6666666666666666,
              "#ed7953"
             ],
             [
              0.7777777777777778,
              "#fb9f3a"
             ],
             [
              0.8888888888888888,
              "#fdca26"
             ],
             [
              1,
              "#f0f921"
             ]
            ],
            "type": "contour"
           }
          ],
          "contourcarpet": [
           {
            "colorbar": {
             "outlinewidth": 0,
             "ticks": ""
            },
            "type": "contourcarpet"
           }
          ],
          "heatmap": [
           {
            "colorbar": {
             "outlinewidth": 0,
             "ticks": ""
            },
            "colorscale": [
             [
              0,
              "#0d0887"
             ],
             [
              0.1111111111111111,
              "#46039f"
             ],
             [
              0.2222222222222222,
              "#7201a8"
             ],
             [
              0.3333333333333333,
              "#9c179e"
             ],
             [
              0.4444444444444444,
              "#bd3786"
             ],
             [
              0.5555555555555556,
              "#d8576b"
             ],
             [
              0.6666666666666666,
              "#ed7953"
             ],
             [
              0.7777777777777778,
              "#fb9f3a"
             ],
             [
              0.8888888888888888,
              "#fdca26"
             ],
             [
              1,
              "#f0f921"
             ]
            ],
            "type": "heatmap"
           }
          ],
          "heatmapgl": [
           {
            "colorbar": {
             "outlinewidth": 0,
             "ticks": ""
            },
            "colorscale": [
             [
              0,
              "#0d0887"
             ],
             [
              0.1111111111111111,
              "#46039f"
             ],
             [
              0.2222222222222222,
              "#7201a8"
             ],
             [
              0.3333333333333333,
              "#9c179e"
             ],
             [
              0.4444444444444444,
              "#bd3786"
             ],
             [
              0.5555555555555556,
              "#d8576b"
             ],
             [
              0.6666666666666666,
              "#ed7953"
             ],
             [
              0.7777777777777778,
              "#fb9f3a"
             ],
             [
              0.8888888888888888,
              "#fdca26"
             ],
             [
              1,
              "#f0f921"
             ]
            ],
            "type": "heatmapgl"
           }
          ],
          "histogram": [
           {
            "marker": {
             "pattern": {
              "fillmode": "overlay",
              "size": 10,
              "solidity": 0.2
             }
            },
            "type": "histogram"
           }
          ],
          "histogram2d": [
           {
            "colorbar": {
             "outlinewidth": 0,
             "ticks": ""
            },
            "colorscale": [
             [
              0,
              "#0d0887"
             ],
             [
              0.1111111111111111,
              "#46039f"
             ],
             [
              0.2222222222222222,
              "#7201a8"
             ],
             [
              0.3333333333333333,
              "#9c179e"
             ],
             [
              0.4444444444444444,
              "#bd3786"
             ],
             [
              0.5555555555555556,
              "#d8576b"
             ],
             [
              0.6666666666666666,
              "#ed7953"
             ],
             [
              0.7777777777777778,
              "#fb9f3a"
             ],
             [
              0.8888888888888888,
              "#fdca26"
             ],
             [
              1,
              "#f0f921"
             ]
            ],
            "type": "histogram2d"
           }
          ],
          "histogram2dcontour": [
           {
            "colorbar": {
             "outlinewidth": 0,
             "ticks": ""
            },
            "colorscale": [
             [
              0,
              "#0d0887"
             ],
             [
              0.1111111111111111,
              "#46039f"
             ],
             [
              0.2222222222222222,
              "#7201a8"
             ],
             [
              0.3333333333333333,
              "#9c179e"
             ],
             [
              0.4444444444444444,
              "#bd3786"
             ],
             [
              0.5555555555555556,
              "#d8576b"
             ],
             [
              0.6666666666666666,
              "#ed7953"
             ],
             [
              0.7777777777777778,
              "#fb9f3a"
             ],
             [
              0.8888888888888888,
              "#fdca26"
             ],
             [
              1,
              "#f0f921"
             ]
            ],
            "type": "histogram2dcontour"
           }
          ],
          "mesh3d": [
           {
            "colorbar": {
             "outlinewidth": 0,
             "ticks": ""
            },
            "type": "mesh3d"
           }
          ],
          "parcoords": [
           {
            "line": {
             "colorbar": {
              "outlinewidth": 0,
              "ticks": ""
             }
            },
            "type": "parcoords"
           }
          ],
          "pie": [
           {
            "automargin": true,
            "type": "pie"
           }
          ],
          "scatter": [
           {
            "fillpattern": {
             "fillmode": "overlay",
             "size": 10,
             "solidity": 0.2
            },
            "type": "scatter"
           }
          ],
          "scatter3d": [
           {
            "line": {
             "colorbar": {
              "outlinewidth": 0,
              "ticks": ""
             }
            },
            "marker": {
             "colorbar": {
              "outlinewidth": 0,
              "ticks": ""
             }
            },
            "type": "scatter3d"
           }
          ],
          "scattercarpet": [
           {
            "marker": {
             "colorbar": {
              "outlinewidth": 0,
              "ticks": ""
             }
            },
            "type": "scattercarpet"
           }
          ],
          "scattergeo": [
           {
            "marker": {
             "colorbar": {
              "outlinewidth": 0,
              "ticks": ""
             }
            },
            "type": "scattergeo"
           }
          ],
          "scattergl": [
           {
            "marker": {
             "colorbar": {
              "outlinewidth": 0,
              "ticks": ""
             }
            },
            "type": "scattergl"
           }
          ],
          "scattermapbox": [
           {
            "marker": {
             "colorbar": {
              "outlinewidth": 0,
              "ticks": ""
             }
            },
            "type": "scattermapbox"
           }
          ],
          "scatterpolar": [
           {
            "marker": {
             "colorbar": {
              "outlinewidth": 0,
              "ticks": ""
             }
            },
            "type": "scatterpolar"
           }
          ],
          "scatterpolargl": [
           {
            "marker": {
             "colorbar": {
              "outlinewidth": 0,
              "ticks": ""
             }
            },
            "type": "scatterpolargl"
           }
          ],
          "scatterternary": [
           {
            "marker": {
             "colorbar": {
              "outlinewidth": 0,
              "ticks": ""
             }
            },
            "type": "scatterternary"
           }
          ],
          "surface": [
           {
            "colorbar": {
             "outlinewidth": 0,
             "ticks": ""
            },
            "colorscale": [
             [
              0,
              "#0d0887"
             ],
             [
              0.1111111111111111,
              "#46039f"
             ],
             [
              0.2222222222222222,
              "#7201a8"
             ],
             [
              0.3333333333333333,
              "#9c179e"
             ],
             [
              0.4444444444444444,
              "#bd3786"
             ],
             [
              0.5555555555555556,
              "#d8576b"
             ],
             [
              0.6666666666666666,
              "#ed7953"
             ],
             [
              0.7777777777777778,
              "#fb9f3a"
             ],
             [
              0.8888888888888888,
              "#fdca26"
             ],
             [
              1,
              "#f0f921"
             ]
            ],
            "type": "surface"
           }
          ],
          "table": [
           {
            "cells": {
             "fill": {
              "color": "#EBF0F8"
             },
             "line": {
              "color": "white"
             }
            },
            "header": {
             "fill": {
              "color": "#C8D4E3"
             },
             "line": {
              "color": "white"
             }
            },
            "type": "table"
           }
          ]
         },
         "layout": {
          "annotationdefaults": {
           "arrowcolor": "#2a3f5f",
           "arrowhead": 0,
           "arrowwidth": 1
          },
          "autotypenumbers": "strict",
          "coloraxis": {
           "colorbar": {
            "outlinewidth": 0,
            "ticks": ""
           }
          },
          "colorscale": {
           "diverging": [
            [
             0,
             "#8e0152"
            ],
            [
             0.1,
             "#c51b7d"
            ],
            [
             0.2,
             "#de77ae"
            ],
            [
             0.3,
             "#f1b6da"
            ],
            [
             0.4,
             "#fde0ef"
            ],
            [
             0.5,
             "#f7f7f7"
            ],
            [
             0.6,
             "#e6f5d0"
            ],
            [
             0.7,
             "#b8e186"
            ],
            [
             0.8,
             "#7fbc41"
            ],
            [
             0.9,
             "#4d9221"
            ],
            [
             1,
             "#276419"
            ]
           ],
           "sequential": [
            [
             0,
             "#0d0887"
            ],
            [
             0.1111111111111111,
             "#46039f"
            ],
            [
             0.2222222222222222,
             "#7201a8"
            ],
            [
             0.3333333333333333,
             "#9c179e"
            ],
            [
             0.4444444444444444,
             "#bd3786"
            ],
            [
             0.5555555555555556,
             "#d8576b"
            ],
            [
             0.6666666666666666,
             "#ed7953"
            ],
            [
             0.7777777777777778,
             "#fb9f3a"
            ],
            [
             0.8888888888888888,
             "#fdca26"
            ],
            [
             1,
             "#f0f921"
            ]
           ],
           "sequentialminus": [
            [
             0,
             "#0d0887"
            ],
            [
             0.1111111111111111,
             "#46039f"
            ],
            [
             0.2222222222222222,
             "#7201a8"
            ],
            [
             0.3333333333333333,
             "#9c179e"
            ],
            [
             0.4444444444444444,
             "#bd3786"
            ],
            [
             0.5555555555555556,
             "#d8576b"
            ],
            [
             0.6666666666666666,
             "#ed7953"
            ],
            [
             0.7777777777777778,
             "#fb9f3a"
            ],
            [
             0.8888888888888888,
             "#fdca26"
            ],
            [
             1,
             "#f0f921"
            ]
           ]
          },
          "colorway": [
           "#636efa",
           "#EF553B",
           "#00cc96",
           "#ab63fa",
           "#FFA15A",
           "#19d3f3",
           "#FF6692",
           "#B6E880",
           "#FF97FF",
           "#FECB52"
          ],
          "font": {
           "color": "#2a3f5f"
          },
          "geo": {
           "bgcolor": "white",
           "lakecolor": "white",
           "landcolor": "#E5ECF6",
           "showlakes": true,
           "showland": true,
           "subunitcolor": "white"
          },
          "hoverlabel": {
           "align": "left"
          },
          "hovermode": "closest",
          "mapbox": {
           "style": "light"
          },
          "paper_bgcolor": "white",
          "plot_bgcolor": "#E5ECF6",
          "polar": {
           "angularaxis": {
            "gridcolor": "white",
            "linecolor": "white",
            "ticks": ""
           },
           "bgcolor": "#E5ECF6",
           "radialaxis": {
            "gridcolor": "white",
            "linecolor": "white",
            "ticks": ""
           }
          },
          "scene": {
           "xaxis": {
            "backgroundcolor": "#E5ECF6",
            "gridcolor": "white",
            "gridwidth": 2,
            "linecolor": "white",
            "showbackground": true,
            "ticks": "",
            "zerolinecolor": "white"
           },
           "yaxis": {
            "backgroundcolor": "#E5ECF6",
            "gridcolor": "white",
            "gridwidth": 2,
            "linecolor": "white",
            "showbackground": true,
            "ticks": "",
            "zerolinecolor": "white"
           },
           "zaxis": {
            "backgroundcolor": "#E5ECF6",
            "gridcolor": "white",
            "gridwidth": 2,
            "linecolor": "white",
            "showbackground": true,
            "ticks": "",
            "zerolinecolor": "white"
           }
          },
          "shapedefaults": {
           "line": {
            "color": "#2a3f5f"
           }
          },
          "ternary": {
           "aaxis": {
            "gridcolor": "white",
            "linecolor": "white",
            "ticks": ""
           },
           "baxis": {
            "gridcolor": "white",
            "linecolor": "white",
            "ticks": ""
           },
           "bgcolor": "#E5ECF6",
           "caxis": {
            "gridcolor": "white",
            "linecolor": "white",
            "ticks": ""
           }
          },
          "title": {
           "x": 0.05
          },
          "xaxis": {
           "automargin": true,
           "gridcolor": "white",
           "linecolor": "white",
           "ticks": "",
           "title": {
            "standoff": 15
           },
           "zerolinecolor": "white",
           "zerolinewidth": 2
          },
          "yaxis": {
           "automargin": true,
           "gridcolor": "white",
           "linecolor": "white",
           "ticks": "",
           "title": {
            "standoff": 15
           },
           "zerolinecolor": "white",
           "zerolinewidth": 2
          }
         }
        }
       }
      }
     },
     "metadata": {},
     "output_type": "display_data"
    }
   ],
   "source": [
    "fig= px.pie(DepStatus,DepStatus.index, DepStatus.values)\n",
    "fig.show()"
   ]
  },
  {
   "cell_type": "code",
   "execution_count": 126,
   "metadata": {},
   "outputs": [
    {
     "data": {
      "text/plain": [
       "arr_status\n",
       "Cancelled      458\n",
       "Late         76777\n",
       "OnTime       11308\n",
       "Name: arr_status, dtype: int64"
      ]
     },
     "execution_count": 126,
     "metadata": {},
     "output_type": "execute_result"
    }
   ],
   "source": [
    "ArrStatus=df.groupby(['arr_status'])['arr_status'].count()\n",
    "ArrStatus"
   ]
  },
  {
   "cell_type": "code",
   "execution_count": 130,
   "metadata": {},
   "outputs": [
    {
     "data": {
      "application/vnd.plotly.v1+json": {
       "config": {
        "plotlyServerURL": "https://plot.ly"
       },
       "data": [
        {
         "domain": {
          "x": [
           0,
           1
          ],
          "y": [
           0,
           1
          ]
         },
         "hovertemplate": "index=%{label}<br>value=%{value}<extra></extra>",
         "labels": [
          "Cancelled",
          "Late",
          "OnTime"
         ],
         "legendgroup": "",
         "name": "",
         "showlegend": true,
         "type": "pie",
         "values": [
          458,
          76777,
          11308
         ]
        }
       ],
       "layout": {
        "legend": {
         "tracegroupgap": 0
        },
        "margin": {
         "t": 60
        },
        "template": {
         "data": {
          "bar": [
           {
            "error_x": {
             "color": "#2a3f5f"
            },
            "error_y": {
             "color": "#2a3f5f"
            },
            "marker": {
             "line": {
              "color": "#E5ECF6",
              "width": 0.5
             },
             "pattern": {
              "fillmode": "overlay",
              "size": 10,
              "solidity": 0.2
             }
            },
            "type": "bar"
           }
          ],
          "barpolar": [
           {
            "marker": {
             "line": {
              "color": "#E5ECF6",
              "width": 0.5
             },
             "pattern": {
              "fillmode": "overlay",
              "size": 10,
              "solidity": 0.2
             }
            },
            "type": "barpolar"
           }
          ],
          "carpet": [
           {
            "aaxis": {
             "endlinecolor": "#2a3f5f",
             "gridcolor": "white",
             "linecolor": "white",
             "minorgridcolor": "white",
             "startlinecolor": "#2a3f5f"
            },
            "baxis": {
             "endlinecolor": "#2a3f5f",
             "gridcolor": "white",
             "linecolor": "white",
             "minorgridcolor": "white",
             "startlinecolor": "#2a3f5f"
            },
            "type": "carpet"
           }
          ],
          "choropleth": [
           {
            "colorbar": {
             "outlinewidth": 0,
             "ticks": ""
            },
            "type": "choropleth"
           }
          ],
          "contour": [
           {
            "colorbar": {
             "outlinewidth": 0,
             "ticks": ""
            },
            "colorscale": [
             [
              0,
              "#0d0887"
             ],
             [
              0.1111111111111111,
              "#46039f"
             ],
             [
              0.2222222222222222,
              "#7201a8"
             ],
             [
              0.3333333333333333,
              "#9c179e"
             ],
             [
              0.4444444444444444,
              "#bd3786"
             ],
             [
              0.5555555555555556,
              "#d8576b"
             ],
             [
              0.6666666666666666,
              "#ed7953"
             ],
             [
              0.7777777777777778,
              "#fb9f3a"
             ],
             [
              0.8888888888888888,
              "#fdca26"
             ],
             [
              1,
              "#f0f921"
             ]
            ],
            "type": "contour"
           }
          ],
          "contourcarpet": [
           {
            "colorbar": {
             "outlinewidth": 0,
             "ticks": ""
            },
            "type": "contourcarpet"
           }
          ],
          "heatmap": [
           {
            "colorbar": {
             "outlinewidth": 0,
             "ticks": ""
            },
            "colorscale": [
             [
              0,
              "#0d0887"
             ],
             [
              0.1111111111111111,
              "#46039f"
             ],
             [
              0.2222222222222222,
              "#7201a8"
             ],
             [
              0.3333333333333333,
              "#9c179e"
             ],
             [
              0.4444444444444444,
              "#bd3786"
             ],
             [
              0.5555555555555556,
              "#d8576b"
             ],
             [
              0.6666666666666666,
              "#ed7953"
             ],
             [
              0.7777777777777778,
              "#fb9f3a"
             ],
             [
              0.8888888888888888,
              "#fdca26"
             ],
             [
              1,
              "#f0f921"
             ]
            ],
            "type": "heatmap"
           }
          ],
          "heatmapgl": [
           {
            "colorbar": {
             "outlinewidth": 0,
             "ticks": ""
            },
            "colorscale": [
             [
              0,
              "#0d0887"
             ],
             [
              0.1111111111111111,
              "#46039f"
             ],
             [
              0.2222222222222222,
              "#7201a8"
             ],
             [
              0.3333333333333333,
              "#9c179e"
             ],
             [
              0.4444444444444444,
              "#bd3786"
             ],
             [
              0.5555555555555556,
              "#d8576b"
             ],
             [
              0.6666666666666666,
              "#ed7953"
             ],
             [
              0.7777777777777778,
              "#fb9f3a"
             ],
             [
              0.8888888888888888,
              "#fdca26"
             ],
             [
              1,
              "#f0f921"
             ]
            ],
            "type": "heatmapgl"
           }
          ],
          "histogram": [
           {
            "marker": {
             "pattern": {
              "fillmode": "overlay",
              "size": 10,
              "solidity": 0.2
             }
            },
            "type": "histogram"
           }
          ],
          "histogram2d": [
           {
            "colorbar": {
             "outlinewidth": 0,
             "ticks": ""
            },
            "colorscale": [
             [
              0,
              "#0d0887"
             ],
             [
              0.1111111111111111,
              "#46039f"
             ],
             [
              0.2222222222222222,
              "#7201a8"
             ],
             [
              0.3333333333333333,
              "#9c179e"
             ],
             [
              0.4444444444444444,
              "#bd3786"
             ],
             [
              0.5555555555555556,
              "#d8576b"
             ],
             [
              0.6666666666666666,
              "#ed7953"
             ],
             [
              0.7777777777777778,
              "#fb9f3a"
             ],
             [
              0.8888888888888888,
              "#fdca26"
             ],
             [
              1,
              "#f0f921"
             ]
            ],
            "type": "histogram2d"
           }
          ],
          "histogram2dcontour": [
           {
            "colorbar": {
             "outlinewidth": 0,
             "ticks": ""
            },
            "colorscale": [
             [
              0,
              "#0d0887"
             ],
             [
              0.1111111111111111,
              "#46039f"
             ],
             [
              0.2222222222222222,
              "#7201a8"
             ],
             [
              0.3333333333333333,
              "#9c179e"
             ],
             [
              0.4444444444444444,
              "#bd3786"
             ],
             [
              0.5555555555555556,
              "#d8576b"
             ],
             [
              0.6666666666666666,
              "#ed7953"
             ],
             [
              0.7777777777777778,
              "#fb9f3a"
             ],
             [
              0.8888888888888888,
              "#fdca26"
             ],
             [
              1,
              "#f0f921"
             ]
            ],
            "type": "histogram2dcontour"
           }
          ],
          "mesh3d": [
           {
            "colorbar": {
             "outlinewidth": 0,
             "ticks": ""
            },
            "type": "mesh3d"
           }
          ],
          "parcoords": [
           {
            "line": {
             "colorbar": {
              "outlinewidth": 0,
              "ticks": ""
             }
            },
            "type": "parcoords"
           }
          ],
          "pie": [
           {
            "automargin": true,
            "type": "pie"
           }
          ],
          "scatter": [
           {
            "fillpattern": {
             "fillmode": "overlay",
             "size": 10,
             "solidity": 0.2
            },
            "type": "scatter"
           }
          ],
          "scatter3d": [
           {
            "line": {
             "colorbar": {
              "outlinewidth": 0,
              "ticks": ""
             }
            },
            "marker": {
             "colorbar": {
              "outlinewidth": 0,
              "ticks": ""
             }
            },
            "type": "scatter3d"
           }
          ],
          "scattercarpet": [
           {
            "marker": {
             "colorbar": {
              "outlinewidth": 0,
              "ticks": ""
             }
            },
            "type": "scattercarpet"
           }
          ],
          "scattergeo": [
           {
            "marker": {
             "colorbar": {
              "outlinewidth": 0,
              "ticks": ""
             }
            },
            "type": "scattergeo"
           }
          ],
          "scattergl": [
           {
            "marker": {
             "colorbar": {
              "outlinewidth": 0,
              "ticks": ""
             }
            },
            "type": "scattergl"
           }
          ],
          "scattermapbox": [
           {
            "marker": {
             "colorbar": {
              "outlinewidth": 0,
              "ticks": ""
             }
            },
            "type": "scattermapbox"
           }
          ],
          "scatterpolar": [
           {
            "marker": {
             "colorbar": {
              "outlinewidth": 0,
              "ticks": ""
             }
            },
            "type": "scatterpolar"
           }
          ],
          "scatterpolargl": [
           {
            "marker": {
             "colorbar": {
              "outlinewidth": 0,
              "ticks": ""
             }
            },
            "type": "scatterpolargl"
           }
          ],
          "scatterternary": [
           {
            "marker": {
             "colorbar": {
              "outlinewidth": 0,
              "ticks": ""
             }
            },
            "type": "scatterternary"
           }
          ],
          "surface": [
           {
            "colorbar": {
             "outlinewidth": 0,
             "ticks": ""
            },
            "colorscale": [
             [
              0,
              "#0d0887"
             ],
             [
              0.1111111111111111,
              "#46039f"
             ],
             [
              0.2222222222222222,
              "#7201a8"
             ],
             [
              0.3333333333333333,
              "#9c179e"
             ],
             [
              0.4444444444444444,
              "#bd3786"
             ],
             [
              0.5555555555555556,
              "#d8576b"
             ],
             [
              0.6666666666666666,
              "#ed7953"
             ],
             [
              0.7777777777777778,
              "#fb9f3a"
             ],
             [
              0.8888888888888888,
              "#fdca26"
             ],
             [
              1,
              "#f0f921"
             ]
            ],
            "type": "surface"
           }
          ],
          "table": [
           {
            "cells": {
             "fill": {
              "color": "#EBF0F8"
             },
             "line": {
              "color": "white"
             }
            },
            "header": {
             "fill": {
              "color": "#C8D4E3"
             },
             "line": {
              "color": "white"
             }
            },
            "type": "table"
           }
          ]
         },
         "layout": {
          "annotationdefaults": {
           "arrowcolor": "#2a3f5f",
           "arrowhead": 0,
           "arrowwidth": 1
          },
          "autotypenumbers": "strict",
          "coloraxis": {
           "colorbar": {
            "outlinewidth": 0,
            "ticks": ""
           }
          },
          "colorscale": {
           "diverging": [
            [
             0,
             "#8e0152"
            ],
            [
             0.1,
             "#c51b7d"
            ],
            [
             0.2,
             "#de77ae"
            ],
            [
             0.3,
             "#f1b6da"
            ],
            [
             0.4,
             "#fde0ef"
            ],
            [
             0.5,
             "#f7f7f7"
            ],
            [
             0.6,
             "#e6f5d0"
            ],
            [
             0.7,
             "#b8e186"
            ],
            [
             0.8,
             "#7fbc41"
            ],
            [
             0.9,
             "#4d9221"
            ],
            [
             1,
             "#276419"
            ]
           ],
           "sequential": [
            [
             0,
             "#0d0887"
            ],
            [
             0.1111111111111111,
             "#46039f"
            ],
            [
             0.2222222222222222,
             "#7201a8"
            ],
            [
             0.3333333333333333,
             "#9c179e"
            ],
            [
             0.4444444444444444,
             "#bd3786"
            ],
            [
             0.5555555555555556,
             "#d8576b"
            ],
            [
             0.6666666666666666,
             "#ed7953"
            ],
            [
             0.7777777777777778,
             "#fb9f3a"
            ],
            [
             0.8888888888888888,
             "#fdca26"
            ],
            [
             1,
             "#f0f921"
            ]
           ],
           "sequentialminus": [
            [
             0,
             "#0d0887"
            ],
            [
             0.1111111111111111,
             "#46039f"
            ],
            [
             0.2222222222222222,
             "#7201a8"
            ],
            [
             0.3333333333333333,
             "#9c179e"
            ],
            [
             0.4444444444444444,
             "#bd3786"
            ],
            [
             0.5555555555555556,
             "#d8576b"
            ],
            [
             0.6666666666666666,
             "#ed7953"
            ],
            [
             0.7777777777777778,
             "#fb9f3a"
            ],
            [
             0.8888888888888888,
             "#fdca26"
            ],
            [
             1,
             "#f0f921"
            ]
           ]
          },
          "colorway": [
           "#636efa",
           "#EF553B",
           "#00cc96",
           "#ab63fa",
           "#FFA15A",
           "#19d3f3",
           "#FF6692",
           "#B6E880",
           "#FF97FF",
           "#FECB52"
          ],
          "font": {
           "color": "#2a3f5f"
          },
          "geo": {
           "bgcolor": "white",
           "lakecolor": "white",
           "landcolor": "#E5ECF6",
           "showlakes": true,
           "showland": true,
           "subunitcolor": "white"
          },
          "hoverlabel": {
           "align": "left"
          },
          "hovermode": "closest",
          "mapbox": {
           "style": "light"
          },
          "paper_bgcolor": "white",
          "plot_bgcolor": "#E5ECF6",
          "polar": {
           "angularaxis": {
            "gridcolor": "white",
            "linecolor": "white",
            "ticks": ""
           },
           "bgcolor": "#E5ECF6",
           "radialaxis": {
            "gridcolor": "white",
            "linecolor": "white",
            "ticks": ""
           }
          },
          "scene": {
           "xaxis": {
            "backgroundcolor": "#E5ECF6",
            "gridcolor": "white",
            "gridwidth": 2,
            "linecolor": "white",
            "showbackground": true,
            "ticks": "",
            "zerolinecolor": "white"
           },
           "yaxis": {
            "backgroundcolor": "#E5ECF6",
            "gridcolor": "white",
            "gridwidth": 2,
            "linecolor": "white",
            "showbackground": true,
            "ticks": "",
            "zerolinecolor": "white"
           },
           "zaxis": {
            "backgroundcolor": "#E5ECF6",
            "gridcolor": "white",
            "gridwidth": 2,
            "linecolor": "white",
            "showbackground": true,
            "ticks": "",
            "zerolinecolor": "white"
           }
          },
          "shapedefaults": {
           "line": {
            "color": "#2a3f5f"
           }
          },
          "ternary": {
           "aaxis": {
            "gridcolor": "white",
            "linecolor": "white",
            "ticks": ""
           },
           "baxis": {
            "gridcolor": "white",
            "linecolor": "white",
            "ticks": ""
           },
           "bgcolor": "#E5ECF6",
           "caxis": {
            "gridcolor": "white",
            "linecolor": "white",
            "ticks": ""
           }
          },
          "title": {
           "x": 0.05
          },
          "xaxis": {
           "automargin": true,
           "gridcolor": "white",
           "linecolor": "white",
           "ticks": "",
           "title": {
            "standoff": 15
           },
           "zerolinecolor": "white",
           "zerolinewidth": 2
          },
          "yaxis": {
           "automargin": true,
           "gridcolor": "white",
           "linecolor": "white",
           "ticks": "",
           "title": {
            "standoff": 15
           },
           "zerolinecolor": "white",
           "zerolinewidth": 2
          }
         }
        }
       }
      }
     },
     "metadata": {},
     "output_type": "display_data"
    }
   ],
   "source": [
    "fig= px.pie(ArrStatus,ArrStatus.index, ArrStatus.values)\n",
    "fig.show()"
   ]
  },
  {
   "cell_type": "markdown",
   "metadata": {},
   "source": [
    "# Delayed Flights"
   ]
  },
  {
   "cell_type": "markdown",
   "metadata": {},
   "source": [
    "## Best and worst airport in terms of departure and arrival delay"
   ]
  },
  {
   "cell_type": "code",
   "execution_count": 136,
   "metadata": {},
   "outputs": [
    {
     "data": {
      "text/plain": [
       "Origin  dep_status\n",
       "ABE     Late           40\n",
       "ABI     Late           39\n",
       "ABQ     Late          207\n",
       "ABY     Late           17\n",
       "ACT     Late           27\n",
       "                     ... \n",
       "TYR     Late           20\n",
       "TYS     Late          193\n",
       "VLD     Late           17\n",
       "VPS     Late          165\n",
       "XNA     Late          249\n",
       "Name: dep_status, Length: 228, dtype: int64"
      ]
     },
     "execution_count": 136,
     "metadata": {},
     "output_type": "execute_result"
    }
   ],
   "source": [
    "depAir = df.loc[df['dep_status'] == 'Late'].groupby(['Origin','dep_status'])['dep_status'].count()\n",
    "depAir"
   ]
  },
  {
   "cell_type": "code",
   "execution_count": 159,
   "metadata": {},
   "outputs": [
    {
     "ename": "AttributeError",
     "evalue": "'DataFrame' object has no attribute 'depAir'",
     "output_type": "error",
     "traceback": [
      "\u001b[1;31m---------------------------------------------------------------------------\u001b[0m",
      "\u001b[1;31mAttributeError\u001b[0m                            Traceback (most recent call last)",
      "\u001b[1;32m~\\AppData\\Local\\Temp\\ipykernel_17496\\1825772311.py\u001b[0m in \u001b[0;36m?\u001b[1;34m()\u001b[0m\n\u001b[1;32m----> 1\u001b[1;33m \u001b[1;33m(\u001b[0m\u001b[0mdf\u001b[0m\u001b[1;33m.\u001b[0m\u001b[0mdepAir\u001b[0m\u001b[1;33m)\u001b[0m\u001b[1;33m.\u001b[0m\u001b[0mvalue_counts\u001b[0m\u001b[1;33m(\u001b[0m\u001b[1;33m)\u001b[0m\u001b[1;33m.\u001b[0m\u001b[0mhead\u001b[0m\u001b[1;33m(\u001b[0m\u001b[1;36m25\u001b[0m\u001b[1;33m)\u001b[0m\u001b[1;33m.\u001b[0m\u001b[0mplot\u001b[0m\u001b[1;33m(\u001b[0m\u001b[0mkind\u001b[0m\u001b[1;33m=\u001b[0m\u001b[1;34m'bar'\u001b[0m\u001b[1;33m)\u001b[0m\u001b[1;33m\u001b[0m\u001b[1;33m\u001b[0m\u001b[0m\n\u001b[0m",
      "\u001b[1;32mc:\\Users\\aditi\\miniconda3\\Lib\\site-packages\\pandas\\core\\generic.py\u001b[0m in \u001b[0;36m?\u001b[1;34m(self, name)\u001b[0m\n\u001b[0;32m   6200\u001b[0m             \u001b[1;32mand\u001b[0m \u001b[0mname\u001b[0m \u001b[1;32mnot\u001b[0m \u001b[1;32min\u001b[0m \u001b[0mself\u001b[0m\u001b[1;33m.\u001b[0m\u001b[0m_accessors\u001b[0m\u001b[1;33m\u001b[0m\u001b[1;33m\u001b[0m\u001b[0m\n\u001b[0;32m   6201\u001b[0m             \u001b[1;32mand\u001b[0m \u001b[0mself\u001b[0m\u001b[1;33m.\u001b[0m\u001b[0m_info_axis\u001b[0m\u001b[1;33m.\u001b[0m\u001b[0m_can_hold_identifiers_and_holds_name\u001b[0m\u001b[1;33m(\u001b[0m\u001b[0mname\u001b[0m\u001b[1;33m)\u001b[0m\u001b[1;33m\u001b[0m\u001b[1;33m\u001b[0m\u001b[0m\n\u001b[0;32m   6202\u001b[0m         ):\n\u001b[0;32m   6203\u001b[0m             \u001b[1;32mreturn\u001b[0m \u001b[0mself\u001b[0m\u001b[1;33m[\u001b[0m\u001b[0mname\u001b[0m\u001b[1;33m]\u001b[0m\u001b[1;33m\u001b[0m\u001b[1;33m\u001b[0m\u001b[0m\n\u001b[1;32m-> 6204\u001b[1;33m         \u001b[1;32mreturn\u001b[0m \u001b[0mobject\u001b[0m\u001b[1;33m.\u001b[0m\u001b[0m__getattribute__\u001b[0m\u001b[1;33m(\u001b[0m\u001b[0mself\u001b[0m\u001b[1;33m,\u001b[0m \u001b[0mname\u001b[0m\u001b[1;33m)\u001b[0m\u001b[1;33m\u001b[0m\u001b[1;33m\u001b[0m\u001b[0m\n\u001b[0m",
      "\u001b[1;31mAttributeError\u001b[0m: 'DataFrame' object has no attribute 'depAir'"
     ]
    }
   ],
   "source": [
    "(df.depAir).value_counts().head(25).plot(kind='bar')"
   ]
  },
  {
   "cell_type": "code",
   "execution_count": 163,
   "metadata": {},
   "outputs": [
    {
     "data": {
      "text/plain": [
       "<Axes: title={'center': 'Departure delay w.r.t Airports'}, xlabel='dep_status'>"
      ]
     },
     "execution_count": 163,
     "metadata": {},
     "output_type": "execute_result"
    },
    {
     "data": {
      "image/png": "[encoded data removed]",
      "text/plain": [
       "<Figure size 640x480 with 1 Axes>"
      ]
     },
     "metadata": {},
     "output_type": "display_data"
    }
   ],
   "source": [
    "depAir.value_counts().head(25).plot(kind='bar', title =\"Departure delay w.r.t Airports\",  legend=False, fontsize=12)"
   ]
  },
  {
   "cell_type": "code",
   "execution_count": 161,
   "metadata": {},
   "outputs": [
    {
     "ename": "AttributeError",
     "evalue": "'DataFrame' object has no attribute 'depAir'",
     "output_type": "error",
     "traceback": [
      "\u001b[1;31m---------------------------------------------------------------------------\u001b[0m",
      "\u001b[1;31mAttributeError\u001b[0m                            Traceback (most recent call last)",
      "\u001b[1;32m~\\AppData\\Local\\Temp\\ipykernel_17496\\1825772311.py\u001b[0m in \u001b[0;36m?\u001b[1;34m()\u001b[0m\n\u001b[1;32m----> 1\u001b[1;33m \u001b[1;33m(\u001b[0m\u001b[0mdf\u001b[0m\u001b[1;33m.\u001b[0m\u001b[0mdepAir\u001b[0m\u001b[1;33m)\u001b[0m\u001b[1;33m.\u001b[0m\u001b[0mvalue_counts\u001b[0m\u001b[1;33m(\u001b[0m\u001b[1;33m)\u001b[0m\u001b[1;33m.\u001b[0m\u001b[0mhead\u001b[0m\u001b[1;33m(\u001b[0m\u001b[1;36m25\u001b[0m\u001b[1;33m)\u001b[0m\u001b[1;33m.\u001b[0m\u001b[0mplot\u001b[0m\u001b[1;33m(\u001b[0m\u001b[0mkind\u001b[0m\u001b[1;33m=\u001b[0m\u001b[1;34m'bar'\u001b[0m\u001b[1;33m)\u001b[0m\u001b[1;33m\u001b[0m\u001b[1;33m\u001b[0m\u001b[0m\n\u001b[0m",
      "\u001b[1;32mc:\\Users\\aditi\\miniconda3\\Lib\\site-packages\\pandas\\core\\generic.py\u001b[0m in \u001b[0;36m?\u001b[1;34m(self, name)\u001b[0m\n\u001b[0;32m   6200\u001b[0m             \u001b[1;32mand\u001b[0m \u001b[0mname\u001b[0m \u001b[1;32mnot\u001b[0m \u001b[1;32min\u001b[0m \u001b[0mself\u001b[0m\u001b[1;33m.\u001b[0m\u001b[0m_accessors\u001b[0m\u001b[1;33m\u001b[0m\u001b[1;33m\u001b[0m\u001b[0m\n\u001b[0;32m   6201\u001b[0m             \u001b[1;32mand\u001b[0m \u001b[0mself\u001b[0m\u001b[1;33m.\u001b[0m\u001b[0m_info_axis\u001b[0m\u001b[1;33m.\u001b[0m\u001b[0m_can_hold_identifiers_and_holds_name\u001b[0m\u001b[1;33m(\u001b[0m\u001b[0mname\u001b[0m\u001b[1;33m)\u001b[0m\u001b[1;33m\u001b[0m\u001b[1;33m\u001b[0m\u001b[0m\n\u001b[0;32m   6202\u001b[0m         ):\n\u001b[0;32m   6203\u001b[0m             \u001b[1;32mreturn\u001b[0m \u001b[0mself\u001b[0m\u001b[1;33m[\u001b[0m\u001b[0mname\u001b[0m\u001b[1;33m]\u001b[0m\u001b[1;33m\u001b[0m\u001b[1;33m\u001b[0m\u001b[0m\n\u001b[1;32m-> 6204\u001b[1;33m         \u001b[1;32mreturn\u001b[0m \u001b[0mobject\u001b[0m\u001b[1;33m.\u001b[0m\u001b[0m__getattribute__\u001b[0m\u001b[1;33m(\u001b[0m\u001b[0mself\u001b[0m\u001b[1;33m,\u001b[0m \u001b[0mname\u001b[0m\u001b[1;33m)\u001b[0m\u001b[1;33m\u001b[0m\u001b[1;33m\u001b[0m\u001b[0m\n\u001b[0m",
      "\u001b[1;31mAttributeError\u001b[0m: 'DataFrame' object has no attribute 'depAir'"
     ]
    }
   ],
   "source": [
    "(df.depAir).value_counts().head(25).plot(kind='bar')"
   ]
  },
  {
   "cell_type": "code",
   "execution_count": 162,
   "metadata": {},
   "outputs": [
    {
     "data": {
      "text/plain": [
       "Origin  arr_status\n",
       "ABE     Late           36\n",
       "ABI     Late           38\n",
       "ABQ     Late          191\n",
       "ABY     Late           17\n",
       "ACT     Late           26\n",
       "                     ... \n",
       "TYR     Late           19\n",
       "TYS     Late          178\n",
       "VLD     Late           17\n",
       "VPS     Late          159\n",
       "XNA     Late          236\n",
       "Name: arr_status, Length: 228, dtype: int64"
      ]
     },
     "execution_count": 162,
     "metadata": {},
     "output_type": "execute_result"
    }
   ],
   "source": [
    "ArrAir = df.loc[df['arr_status'] == 'Late'].groupby(['Origin','arr_status'])['arr_status'].count()\n",
    "ArrAir"
   ]
  }
 ],
 "metadata": {
  "kernelspec": {
   "display_name": "base",
   "language": "python",
   "name": "python3"
  },
  "language_info": {
   "codemirror_mode": {
    "name": "ipython",
    "version": 3
   },
   "file_extension": ".py",
   "mimetype": "text/x-python",
   "name": "python",
   "nbconvert_exporter": "python",
   "pygments_lexer": "ipython3",
   "version": "3.11.5"
  }
 },
 "nbformat": 4,
 "nbformat_minor": 2
}
